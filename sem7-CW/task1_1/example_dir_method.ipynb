{
 "cells": [
  {
   "cell_type": "markdown",
   "source": [
    "## Общие параметры\n"
   ],
   "metadata": {
    "collapsed": false
   },
   "id": "795a92fc4a965834"
  },
  {
   "cell_type": "code",
   "outputs": [
    {
     "name": "stdout",
     "output_type": "stream",
     "text": [
      "Манохин Антон, группа 20.Б04-мм. Вариант 4.\n",
      "eps:  0.001\n",
      "N:  5\n",
      "M:  15\n",
      "Спектральный радиус:  0.8896851114628631\n",
      "Спектральный радиус ** 2:  0.7915395975586872\n",
      "\n",
      "sigma: 10.545500212836721\n",
      "delta: 180.64356506526724\n",
      "\n",
      "Мера аппроксимации ||F − AU^*||: 0.015466550689312353\n",
      "Норма невязки нулевого приближения ||F − AU^0||: 67.58476990460562\n"
     ]
    }
   ],
   "source": [
    "from commons import *\n",
    "\n",
    "print_common_info()"
   ],
   "metadata": {
    "collapsed": false,
    "ExecuteTime": {
     "end_time": "2024-01-23T06:50:23.577969Z",
     "start_time": "2024-01-23T06:50:23.520157Z"
    }
   },
   "id": "d06c3ca2e529592a",
   "execution_count": 8
  },
  {
   "cell_type": "markdown",
   "source": [
    "## Численное решение"
   ],
   "metadata": {
    "collapsed": false
   },
   "id": "cf24d5259cfad325"
  },
  {
   "cell_type": "code",
   "outputs": [
    {
     "data": {
      "text/plain": "array([[0.     , 0.     , 0.     , 0.     , 0.     , 0.     ],\n       [0.20791, 0.25394, 0.31017, 0.37884, 0.46272, 0.56516],\n       [0.40674, 0.49679, 0.60678, 0.74112, 0.90521, 1.10562],\n       [0.58779, 0.71792, 0.87687, 1.07101, 1.30814, 1.59777],\n       [0.74314, 0.90768, 1.10864, 1.3541 , 1.6539 , 2.02008],\n       [0.86603, 1.05777, 1.29196, 1.578  , 1.92737, 2.3541 ],\n       [0.95106, 1.16162, 1.41881, 1.73294, 2.11662, 2.58524],\n       [0.99452, 1.21471, 1.48365, 1.81214, 2.21335, 2.70339],\n       [0.99452, 1.21471, 1.48365, 1.81214, 2.21335, 2.70339],\n       [0.95106, 1.16162, 1.41881, 1.73294, 2.11662, 2.58524],\n       [0.86603, 1.05777, 1.29196, 1.578  , 1.92737, 2.3541 ],\n       [0.74314, 0.90768, 1.10864, 1.3541 , 1.6539 , 2.02008],\n       [0.58779, 0.71792, 0.87687, 1.07101, 1.30814, 1.59777],\n       [0.40674, 0.49679, 0.60678, 0.74112, 0.90521, 1.10562],\n       [0.20791, 0.25394, 0.31017, 0.37884, 0.46272, 0.56516],\n       [0.     , 0.     , 0.     , 0.     , 0.     , 0.     ]])"
     },
     "execution_count": 9,
     "metadata": {},
     "output_type": "execute_result"
    }
   ],
   "source": [
    "U_precise.T"
   ],
   "metadata": {
    "collapsed": false,
    "ExecuteTime": {
     "end_time": "2024-01-23T06:50:23.634141Z",
     "start_time": "2024-01-23T06:50:23.582994Z"
    }
   },
   "id": "2db1beaa2d7531b9",
   "execution_count": 9
  },
  {
   "cell_type": "markdown",
   "source": [
    "## Метод переменных направлений"
   ],
   "metadata": {
    "collapsed": false
   },
   "id": "6f1970787e5efde0"
  },
  {
   "cell_type": "code",
   "outputs": [
    {
     "data": {
      "text/plain": "    ||F - AUk||    rel.d.  ||Uk − u*||  rel.error  ||Uk − Uk-1||         r_k\n1     67.584770  1.000000     2.213349   1.000000       2.215312  828.240534\n2     31.257164  0.462488     0.551033   0.248959       2.764382    1.247852\n3     18.059767  0.267217     0.303340   0.137050       0.854373    0.309065\n4     10.580644  0.156554     0.173109   0.078211       0.476448    0.557659\n5      6.267155  0.092730     0.097990   0.044272       0.271099    0.568999\n6      3.746282  0.055431     0.058574   0.026464       0.156564    0.577517\n7      2.256417  0.033386     0.033011   0.014914       0.091585    0.584967\n8      1.367588  0.020235     0.021148   0.009555       0.054159    0.591349\n9      0.833186  0.012328     0.011170   0.005047       0.032318    0.596729\n10     0.509810  0.007543     0.008260   0.003732       0.019430    0.601218\n11     0.313087  0.004633     0.004777   0.002158       0.011754    0.604947\n12     0.192882  0.002854     0.003653   0.001650       0.007147    0.608049\n13     0.119157  0.001763     0.002696   0.001218       0.004364    0.610648\n14     0.073794  0.001092     0.001963   0.000887       0.002675    0.612850",
      "text/html": "<div>\n<style scoped>\n    .dataframe tbody tr th:only-of-type {\n        vertical-align: middle;\n    }\n\n    .dataframe tbody tr th {\n        vertical-align: top;\n    }\n\n    .dataframe thead th {\n        text-align: right;\n    }\n</style>\n<table border=\"1\" class=\"dataframe\">\n  <thead>\n    <tr style=\"text-align: right;\">\n      <th></th>\n      <th>||F - AUk||</th>\n      <th>rel.d.</th>\n      <th>||Uk − u*||</th>\n      <th>rel.error</th>\n      <th>||Uk − Uk-1||</th>\n      <th>r_k</th>\n    </tr>\n  </thead>\n  <tbody>\n    <tr>\n      <th>1</th>\n      <td>67.584770</td>\n      <td>1.000000</td>\n      <td>2.213349</td>\n      <td>1.000000</td>\n      <td>2.215312</td>\n      <td>828.240534</td>\n    </tr>\n    <tr>\n      <th>2</th>\n      <td>31.257164</td>\n      <td>0.462488</td>\n      <td>0.551033</td>\n      <td>0.248959</td>\n      <td>2.764382</td>\n      <td>1.247852</td>\n    </tr>\n    <tr>\n      <th>3</th>\n      <td>18.059767</td>\n      <td>0.267217</td>\n      <td>0.303340</td>\n      <td>0.137050</td>\n      <td>0.854373</td>\n      <td>0.309065</td>\n    </tr>\n    <tr>\n      <th>4</th>\n      <td>10.580644</td>\n      <td>0.156554</td>\n      <td>0.173109</td>\n      <td>0.078211</td>\n      <td>0.476448</td>\n      <td>0.557659</td>\n    </tr>\n    <tr>\n      <th>5</th>\n      <td>6.267155</td>\n      <td>0.092730</td>\n      <td>0.097990</td>\n      <td>0.044272</td>\n      <td>0.271099</td>\n      <td>0.568999</td>\n    </tr>\n    <tr>\n      <th>6</th>\n      <td>3.746282</td>\n      <td>0.055431</td>\n      <td>0.058574</td>\n      <td>0.026464</td>\n      <td>0.156564</td>\n      <td>0.577517</td>\n    </tr>\n    <tr>\n      <th>7</th>\n      <td>2.256417</td>\n      <td>0.033386</td>\n      <td>0.033011</td>\n      <td>0.014914</td>\n      <td>0.091585</td>\n      <td>0.584967</td>\n    </tr>\n    <tr>\n      <th>8</th>\n      <td>1.367588</td>\n      <td>0.020235</td>\n      <td>0.021148</td>\n      <td>0.009555</td>\n      <td>0.054159</td>\n      <td>0.591349</td>\n    </tr>\n    <tr>\n      <th>9</th>\n      <td>0.833186</td>\n      <td>0.012328</td>\n      <td>0.011170</td>\n      <td>0.005047</td>\n      <td>0.032318</td>\n      <td>0.596729</td>\n    </tr>\n    <tr>\n      <th>10</th>\n      <td>0.509810</td>\n      <td>0.007543</td>\n      <td>0.008260</td>\n      <td>0.003732</td>\n      <td>0.019430</td>\n      <td>0.601218</td>\n    </tr>\n    <tr>\n      <th>11</th>\n      <td>0.313087</td>\n      <td>0.004633</td>\n      <td>0.004777</td>\n      <td>0.002158</td>\n      <td>0.011754</td>\n      <td>0.604947</td>\n    </tr>\n    <tr>\n      <th>12</th>\n      <td>0.192882</td>\n      <td>0.002854</td>\n      <td>0.003653</td>\n      <td>0.001650</td>\n      <td>0.007147</td>\n      <td>0.608049</td>\n    </tr>\n    <tr>\n      <th>13</th>\n      <td>0.119157</td>\n      <td>0.001763</td>\n      <td>0.002696</td>\n      <td>0.001218</td>\n      <td>0.004364</td>\n      <td>0.610648</td>\n    </tr>\n    <tr>\n      <th>14</th>\n      <td>0.073794</td>\n      <td>0.001092</td>\n      <td>0.001963</td>\n      <td>0.000887</td>\n      <td>0.002675</td>\n      <td>0.612850</td>\n    </tr>\n  </tbody>\n</table>\n</div>"
     },
     "execution_count": 10,
     "metadata": {},
     "output_type": "execute_result"
    }
   ],
   "source": [
    "from task2 import direction_method\n",
    "\n",
    "table = pd.DataFrame(\n",
    "        columns=[\"||F - AUk||\", \"rel.d.\", \"||Uk − u*||\", \"rel.error\", \"||Uk − Uk-1||\", \"r_k\"])\n",
    "\n",
    "sigma_1 = c_1 * (4 / (h_x ** 2)) * ((np.sin((np.pi * h_x) / 2 * l_x)) ** 2)\n",
    "delta_1 = c_2 * (4 / (h_x ** 2)) * ((np.cos((np.pi * h_x) / 2 * l_x)) ** 2)\n",
    "\n",
    "sigma_2 = d_1 * (4 / (h_y ** 2)) * ((np.sin((np.pi * h_y) / (2 * l_y))) ** 2)\n",
    "delta_2 = d_2 * (4 / (h_y ** 2)) * ((np.cos((np.pi * h_y) / (2 * l_y))) ** 2)\n",
    "\n",
    "sigma_min = min(sigma_1, sigma_2)\n",
    "delta_max = max(delta_1, delta_2)\n",
    "\n",
    "tau_opt = 2 / np.sqrt(sigma_min * delta_max)\n",
    "\n",
    "dir_arr = direction_method(U_init, tau_opt)\n",
    "\n",
    "for k, solve in enumerate(dir_arr):\n",
    "    discrepancy = dscr(solve, h_x, h_y)\n",
    "    rel_error = norm(solve - U_precise) / norm(U_init - U_precise)\n",
    "    abs_error = norm(solve - U_precise)\n",
    "    abs_error_neighbor = norm(solve - dir_arr[k-1])\n",
    "\n",
    "    table.loc[len(table) + 1] = [discrepancy,\n",
    "                                 discrepancy / discrepancy_first,\n",
    "                                 abs_error,\n",
    "                                 rel_error,\n",
    "                                 abs_error_neighbor,\n",
    "                                 norm(solve - dir_arr[k - 1]) / norm(dir_arr[k - 1] - dir_arr[k - 2])]\n",
    "table"
   ],
   "metadata": {
    "collapsed": false,
    "ExecuteTime": {
     "end_time": "2024-01-23T06:50:23.636318Z",
     "start_time": "2024-01-23T06:50:23.613860Z"
    }
   },
   "id": "eb408d5f4ce37b54",
   "execution_count": 10
  },
  {
   "cell_type": "markdown",
   "source": [
    "Численное решение:"
   ],
   "metadata": {
    "collapsed": false
   },
   "id": "aea553e0fd4f465"
  },
  {
   "cell_type": "code",
   "outputs": [
    {
     "data": {
      "text/plain": "array([[0.     , 0.20791, 0.40674, 0.58779, 0.74314, 0.86603, 0.95106,\n        0.99452, 0.99452, 0.95106, 0.86603, 0.74314, 0.58779, 0.40674,\n        0.20791, 0.     ],\n       [0.     , 0.2542 , 0.49728, 0.71864, 0.90858, 1.05882, 1.16278,\n        1.21592, 1.21592, 1.16278, 1.05882, 0.90858, 0.71864, 0.49728,\n        0.2542 , 0.     ],\n       [0.     , 0.31042, 0.60727, 0.87758, 1.10953, 1.293  , 1.41995,\n        1.48485, 1.48485, 1.41995, 1.293  , 1.10953, 0.87758, 0.60727,\n        0.31042, 0.     ],\n       [0.     , 0.37893, 0.7413 , 1.07127, 1.35442, 1.57838, 1.73335,\n        1.81257, 1.81257, 1.73335, 1.57838, 1.35442, 1.07127, 0.7413 ,\n        0.37893, 0.     ],\n       [0.     , 0.46313, 0.90601, 1.3093 , 1.65537, 1.92908, 2.11849,\n        2.21531, 2.21531, 2.11849, 1.92908, 1.65537, 1.3093 , 0.90601,\n        0.46313, 0.     ],\n       [0.     , 0.56516, 1.10562, 1.59777, 2.02008, 2.3541 , 2.58524,\n        2.70339, 2.70339, 2.58524, 2.3541 , 2.02008, 1.59777, 1.10562,\n        0.56516, 0.     ]])"
     },
     "execution_count": 11,
     "metadata": {},
     "output_type": "execute_result"
    }
   ],
   "source": [
    "dir_arr[-1]"
   ],
   "metadata": {
    "collapsed": false,
    "ExecuteTime": {
     "end_time": "2024-01-23T06:50:23.636788Z",
     "start_time": "2024-01-23T06:50:23.622909Z"
    }
   },
   "id": "8473f6ca253a23b7",
   "execution_count": 11
  }
 ],
 "metadata": {
  "kernelspec": {
   "display_name": "Python 3 (ipykernel)",
   "language": "python",
   "name": "python3"
  },
  "language_info": {
   "codemirror_mode": {
    "name": "ipython",
    "version": 3
   },
   "file_extension": ".py",
   "mimetype": "text/x-python",
   "name": "python",
   "nbconvert_exporter": "python",
   "pygments_lexer": "ipython3",
   "version": "3.11.3"
  }
 },
 "nbformat": 4,
 "nbformat_minor": 5
}
