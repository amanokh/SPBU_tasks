{
 "cells": [
  {
   "cell_type": "markdown",
   "source": [
    "## Общие параметры\n"
   ],
   "metadata": {
    "collapsed": false
   },
   "id": "795a92fc4a965834"
  },
  {
   "cell_type": "code",
   "outputs": [
    {
     "name": "stdout",
     "output_type": "stream",
     "text": [
      "Манохин Антон, группа 20.Б04-мм. Вариант 4.\n",
      "eps:  0.001\n",
      "N:  5\n",
      "M:  5\n",
      "Спектральный радиус:  0.8090169943749475\n",
      "Спектральный радиус ** 2:  0.6545084971874737\n",
      "\n",
      "sigma: 10.516681490527704\n",
      "delta: 99.61543687370605\n",
      "\n",
      "Мера аппроксимации ||F − AU^*||: 0.07578873395826324\n",
      "Норма невязки нулевого приближения ||F − AU^0||: 64.63099115206698\n"
     ]
    }
   ],
   "source": [
    "from commons import *\n",
    "\n",
    "print_common_info()"
   ],
   "metadata": {
    "collapsed": false,
    "ExecuteTime": {
     "end_time": "2024-01-23T06:50:06.973845Z",
     "start_time": "2024-01-23T06:50:06.966144Z"
    }
   },
   "id": "d06c3ca2e529592a",
   "execution_count": 17
  },
  {
   "cell_type": "markdown",
   "source": [
    "## Численное решение"
   ],
   "metadata": {
    "collapsed": false
   },
   "id": "cf24d5259cfad325"
  },
  {
   "cell_type": "code",
   "outputs": [
    {
     "data": {
      "text/plain": "array([[0.     , 0.     , 0.     , 0.     , 0.     , 0.     ],\n       [0.58779, 0.71792, 0.87687, 1.07101, 1.30814, 1.59777],\n       [0.95106, 1.16162, 1.41881, 1.73294, 2.11662, 2.58524],\n       [0.95106, 1.16162, 1.41881, 1.73294, 2.11662, 2.58524],\n       [0.58779, 0.71792, 0.87687, 1.07101, 1.30814, 1.59777],\n       [0.     , 0.     , 0.     , 0.     , 0.     , 0.     ]])"
     },
     "execution_count": 18,
     "metadata": {},
     "output_type": "execute_result"
    }
   ],
   "source": [
    "U_precise.T"
   ],
   "metadata": {
    "collapsed": false,
    "ExecuteTime": {
     "end_time": "2024-01-23T06:50:09.303403Z",
     "start_time": "2024-01-23T06:50:09.296635Z"
    }
   },
   "id": "2db1beaa2d7531b9",
   "execution_count": 18
  },
  {
   "cell_type": "markdown",
   "source": [
    "## Метод простых итераций"
   ],
   "metadata": {
    "collapsed": false
   },
   "id": "6f1970787e5efde0"
  },
  {
   "cell_type": "code",
   "outputs": [
    {
     "data": {
      "text/plain": "    ||F - AUk||    rel.d.  ||Uk − u*||  rel.error  ||Uk − Uk-1||  apost.est.  \\\n1     29.342481  0.454000     1.732938   0.818731       1.173699    4.971870   \n2     14.928344  0.230978     1.222781   0.577706       0.532860    2.257230   \n3     13.677833  0.211630     1.031761   0.487458       0.271099    1.148393   \n4     10.022704  0.155076     0.813598   0.384386       0.248390    1.052195   \n5      8.055430  0.124637     0.659106   0.311396       0.182012    0.771017   \n6      6.279030  0.097152     0.528772   0.249820       0.146287    0.619680   \n7      4.990112  0.077209     0.425592   0.201072       0.114027    0.483027   \n8      3.954901  0.061192     0.342491   0.161811       0.090620    0.383874   \n9      3.153276  0.048789     0.275036   0.129941       0.071821    0.304239   \n10     2.517703  0.038955     0.221337   0.104571       0.057264    0.242572   \n11     2.015827  0.031190     0.177256   0.083745       0.045722    0.193679   \n12     1.616604  0.025013     0.142456   0.067304       0.036607    0.155072   \n13     1.298586  0.020092     0.113563   0.053653       0.029358    0.124361   \n14     1.044412  0.016160     0.091017   0.043001       0.023582    0.099896   \n15     0.840892  0.013011     0.072051   0.034040       0.018967    0.080344   \n16     0.677614  0.010484     0.057434   0.027135       0.015271    0.064687   \n17     0.546432  0.008455     0.045129   0.021321       0.012305    0.052127   \n18     0.440904  0.006822     0.035490   0.016768       0.009923    0.042035   \n19     0.355928  0.005507     0.027484   0.012985       0.008007    0.033917   \n20     0.287443  0.004447     0.021144   0.009990       0.006464    0.027380   \n21     0.232210  0.003593     0.015924   0.007523       0.005220    0.022112   \n22     0.187640  0.002903     0.011761   0.005557       0.004217    0.017863   \n23     0.151657  0.002347     0.008354   0.003947       0.003408    0.014435   \n24     0.122597  0.001897     0.005623   0.002657       0.002754    0.011667   \n25     0.099119  0.001534     0.003397   0.001605       0.002226    0.009431   \n26     0.080147  0.001240     0.001607   0.000759       0.001800    0.007625   \n\n        ro_k  \n1        ---  \n2      0.454  \n3   0.508762  \n4   0.916232  \n5    0.73277  \n6   0.803718  \n7   0.779478  \n8   0.794727  \n9   0.792548  \n10  0.797308  \n11  0.798441  \n12  0.800661  \n13  0.801956  \n14   0.80328  \n15  0.804269  \n16  0.805134  \n17  0.805827  \n18  0.806407  \n19  0.806879  \n20  0.807268  \n21  0.807587  \n22  0.807848  \n23  0.808061  \n24  0.808236  \n25  0.808379  \n26  0.808496  ",
      "text/html": "<div>\n<style scoped>\n    .dataframe tbody tr th:only-of-type {\n        vertical-align: middle;\n    }\n\n    .dataframe tbody tr th {\n        vertical-align: top;\n    }\n\n    .dataframe thead th {\n        text-align: right;\n    }\n</style>\n<table border=\"1\" class=\"dataframe\">\n  <thead>\n    <tr style=\"text-align: right;\">\n      <th></th>\n      <th>||F - AUk||</th>\n      <th>rel.d.</th>\n      <th>||Uk − u*||</th>\n      <th>rel.error</th>\n      <th>||Uk − Uk-1||</th>\n      <th>apost.est.</th>\n      <th>ro_k</th>\n    </tr>\n  </thead>\n  <tbody>\n    <tr>\n      <th>1</th>\n      <td>29.342481</td>\n      <td>0.454000</td>\n      <td>1.732938</td>\n      <td>0.818731</td>\n      <td>1.173699</td>\n      <td>4.971870</td>\n      <td>---</td>\n    </tr>\n    <tr>\n      <th>2</th>\n      <td>14.928344</td>\n      <td>0.230978</td>\n      <td>1.222781</td>\n      <td>0.577706</td>\n      <td>0.532860</td>\n      <td>2.257230</td>\n      <td>0.454</td>\n    </tr>\n    <tr>\n      <th>3</th>\n      <td>13.677833</td>\n      <td>0.211630</td>\n      <td>1.031761</td>\n      <td>0.487458</td>\n      <td>0.271099</td>\n      <td>1.148393</td>\n      <td>0.508762</td>\n    </tr>\n    <tr>\n      <th>4</th>\n      <td>10.022704</td>\n      <td>0.155076</td>\n      <td>0.813598</td>\n      <td>0.384386</td>\n      <td>0.248390</td>\n      <td>1.052195</td>\n      <td>0.916232</td>\n    </tr>\n    <tr>\n      <th>5</th>\n      <td>8.055430</td>\n      <td>0.124637</td>\n      <td>0.659106</td>\n      <td>0.311396</td>\n      <td>0.182012</td>\n      <td>0.771017</td>\n      <td>0.73277</td>\n    </tr>\n    <tr>\n      <th>6</th>\n      <td>6.279030</td>\n      <td>0.097152</td>\n      <td>0.528772</td>\n      <td>0.249820</td>\n      <td>0.146287</td>\n      <td>0.619680</td>\n      <td>0.803718</td>\n    </tr>\n    <tr>\n      <th>7</th>\n      <td>4.990112</td>\n      <td>0.077209</td>\n      <td>0.425592</td>\n      <td>0.201072</td>\n      <td>0.114027</td>\n      <td>0.483027</td>\n      <td>0.779478</td>\n    </tr>\n    <tr>\n      <th>8</th>\n      <td>3.954901</td>\n      <td>0.061192</td>\n      <td>0.342491</td>\n      <td>0.161811</td>\n      <td>0.090620</td>\n      <td>0.383874</td>\n      <td>0.794727</td>\n    </tr>\n    <tr>\n      <th>9</th>\n      <td>3.153276</td>\n      <td>0.048789</td>\n      <td>0.275036</td>\n      <td>0.129941</td>\n      <td>0.071821</td>\n      <td>0.304239</td>\n      <td>0.792548</td>\n    </tr>\n    <tr>\n      <th>10</th>\n      <td>2.517703</td>\n      <td>0.038955</td>\n      <td>0.221337</td>\n      <td>0.104571</td>\n      <td>0.057264</td>\n      <td>0.242572</td>\n      <td>0.797308</td>\n    </tr>\n    <tr>\n      <th>11</th>\n      <td>2.015827</td>\n      <td>0.031190</td>\n      <td>0.177256</td>\n      <td>0.083745</td>\n      <td>0.045722</td>\n      <td>0.193679</td>\n      <td>0.798441</td>\n    </tr>\n    <tr>\n      <th>12</th>\n      <td>1.616604</td>\n      <td>0.025013</td>\n      <td>0.142456</td>\n      <td>0.067304</td>\n      <td>0.036607</td>\n      <td>0.155072</td>\n      <td>0.800661</td>\n    </tr>\n    <tr>\n      <th>13</th>\n      <td>1.298586</td>\n      <td>0.020092</td>\n      <td>0.113563</td>\n      <td>0.053653</td>\n      <td>0.029358</td>\n      <td>0.124361</td>\n      <td>0.801956</td>\n    </tr>\n    <tr>\n      <th>14</th>\n      <td>1.044412</td>\n      <td>0.016160</td>\n      <td>0.091017</td>\n      <td>0.043001</td>\n      <td>0.023582</td>\n      <td>0.099896</td>\n      <td>0.80328</td>\n    </tr>\n    <tr>\n      <th>15</th>\n      <td>0.840892</td>\n      <td>0.013011</td>\n      <td>0.072051</td>\n      <td>0.034040</td>\n      <td>0.018967</td>\n      <td>0.080344</td>\n      <td>0.804269</td>\n    </tr>\n    <tr>\n      <th>16</th>\n      <td>0.677614</td>\n      <td>0.010484</td>\n      <td>0.057434</td>\n      <td>0.027135</td>\n      <td>0.015271</td>\n      <td>0.064687</td>\n      <td>0.805134</td>\n    </tr>\n    <tr>\n      <th>17</th>\n      <td>0.546432</td>\n      <td>0.008455</td>\n      <td>0.045129</td>\n      <td>0.021321</td>\n      <td>0.012305</td>\n      <td>0.052127</td>\n      <td>0.805827</td>\n    </tr>\n    <tr>\n      <th>18</th>\n      <td>0.440904</td>\n      <td>0.006822</td>\n      <td>0.035490</td>\n      <td>0.016768</td>\n      <td>0.009923</td>\n      <td>0.042035</td>\n      <td>0.806407</td>\n    </tr>\n    <tr>\n      <th>19</th>\n      <td>0.355928</td>\n      <td>0.005507</td>\n      <td>0.027484</td>\n      <td>0.012985</td>\n      <td>0.008007</td>\n      <td>0.033917</td>\n      <td>0.806879</td>\n    </tr>\n    <tr>\n      <th>20</th>\n      <td>0.287443</td>\n      <td>0.004447</td>\n      <td>0.021144</td>\n      <td>0.009990</td>\n      <td>0.006464</td>\n      <td>0.027380</td>\n      <td>0.807268</td>\n    </tr>\n    <tr>\n      <th>21</th>\n      <td>0.232210</td>\n      <td>0.003593</td>\n      <td>0.015924</td>\n      <td>0.007523</td>\n      <td>0.005220</td>\n      <td>0.022112</td>\n      <td>0.807587</td>\n    </tr>\n    <tr>\n      <th>22</th>\n      <td>0.187640</td>\n      <td>0.002903</td>\n      <td>0.011761</td>\n      <td>0.005557</td>\n      <td>0.004217</td>\n      <td>0.017863</td>\n      <td>0.807848</td>\n    </tr>\n    <tr>\n      <th>23</th>\n      <td>0.151657</td>\n      <td>0.002347</td>\n      <td>0.008354</td>\n      <td>0.003947</td>\n      <td>0.003408</td>\n      <td>0.014435</td>\n      <td>0.808061</td>\n    </tr>\n    <tr>\n      <th>24</th>\n      <td>0.122597</td>\n      <td>0.001897</td>\n      <td>0.005623</td>\n      <td>0.002657</td>\n      <td>0.002754</td>\n      <td>0.011667</td>\n      <td>0.808236</td>\n    </tr>\n    <tr>\n      <th>25</th>\n      <td>0.099119</td>\n      <td>0.001534</td>\n      <td>0.003397</td>\n      <td>0.001605</td>\n      <td>0.002226</td>\n      <td>0.009431</td>\n      <td>0.808379</td>\n    </tr>\n    <tr>\n      <th>26</th>\n      <td>0.080147</td>\n      <td>0.001240</td>\n      <td>0.001607</td>\n      <td>0.000759</td>\n      <td>0.001800</td>\n      <td>0.007625</td>\n      <td>0.808496</td>\n    </tr>\n  </tbody>\n</table>\n</div>"
     },
     "execution_count": 3,
     "metadata": {},
     "output_type": "execute_result"
    }
   ],
   "source": [
    "from task1_1 import simple_iterations\n",
    "\n",
    "simple_iter_U, table = simple_iterations(U_init, std_output=False)\n",
    "table"
   ],
   "metadata": {
    "collapsed": false,
    "ExecuteTime": {
     "end_time": "2024-01-23T05:36:10.487559Z",
     "start_time": "2024-01-23T05:36:10.454935Z"
    }
   },
   "id": "eb408d5f4ce37b54",
   "execution_count": 3
  },
  {
   "cell_type": "markdown",
   "source": [
    "Численное решение:"
   ],
   "metadata": {
    "collapsed": false
   },
   "id": "aea553e0fd4f465"
  },
  {
   "cell_type": "code",
   "outputs": [
    {
     "data": {
      "text/plain": "array([[0.     , 0.     , 0.     , 0.     , 0.     , 0.     ],\n       [0.58779, 0.71734, 0.87588, 1.0703 , 1.30811, 1.59777],\n       [0.95106, 1.16068, 1.4172 , 1.73177, 2.11656, 2.58524],\n       [0.95106, 1.16068, 1.4172 , 1.73177, 2.11656, 2.58524],\n       [0.58779, 0.71734, 0.87588, 1.0703 , 1.30811, 1.59777],\n       [0.     , 0.     , 0.     , 0.     , 0.     , 0.     ]])"
     },
     "execution_count": 4,
     "metadata": {},
     "output_type": "execute_result"
    }
   ],
   "source": [
    "simple_iter_U.T"
   ],
   "metadata": {
    "collapsed": false,
    "ExecuteTime": {
     "end_time": "2024-01-23T05:36:10.488544Z",
     "start_time": "2024-01-23T05:36:10.475128Z"
    }
   },
   "id": "8473f6ca253a23b7",
   "execution_count": 4
  },
  {
   "cell_type": "markdown",
   "source": [
    "## Метод простой итерации с оптимальным параметром"
   ],
   "metadata": {
    "collapsed": false
   },
   "id": "36529f631eeb04ac"
  },
  {
   "cell_type": "code",
   "outputs": [
    {
     "name": "stdout",
     "output_type": "stream",
     "text": [
      "tau:  0.0181600066329925\n"
     ]
    },
    {
     "data": {
      "text/plain": "    ||F - AUk||    rel.d.  ||Uk − u*||  rel.error  ||Uk − Uk-1||  apost.est.  \\\n1     29.342481  0.454000     1.732938   0.818731       1.173699    4.971870   \n2     14.928344  0.230978     1.222781   0.577706       0.532860    2.257230   \n3     13.677833  0.211630     1.031761   0.487458       0.271099    1.148393   \n4     10.022704  0.155076     0.813598   0.384386       0.248390    1.052195   \n5      8.055430  0.124637     0.659106   0.311396       0.182012    0.771017   \n6      6.279030  0.097152     0.528772   0.249820       0.146287    0.619680   \n7      4.990112  0.077209     0.425592   0.201072       0.114027    0.483027   \n8      3.954901  0.061192     0.342491   0.161811       0.090620    0.383874   \n9      3.153276  0.048789     0.275036   0.129941       0.071821    0.304239   \n10     2.517703  0.038955     0.221337   0.104571       0.057264    0.242572   \n11     2.015827  0.031190     0.177256   0.083745       0.045722    0.193679   \n12     1.616604  0.025013     0.142456   0.067304       0.036607    0.155072   \n13     1.298586  0.020092     0.113563   0.053653       0.029358    0.124361   \n14     1.044412  0.016160     0.091017   0.043001       0.023582    0.099896   \n15     0.840892  0.013011     0.072051   0.034040       0.018967    0.080344   \n16     0.677614  0.010484     0.057434   0.027135       0.015271    0.064687   \n17     0.546432  0.008455     0.045129   0.021321       0.012305    0.052127   \n18     0.440904  0.006822     0.035490   0.016768       0.009923    0.042035   \n19     0.355928  0.005507     0.027484   0.012985       0.008007    0.033917   \n20     0.287443  0.004447     0.021144   0.009990       0.006464    0.027380   \n21     0.232210  0.003593     0.015924   0.007523       0.005220    0.022112   \n22     0.187640  0.002903     0.011761   0.005557       0.004217    0.017863   \n23     0.151657  0.002347     0.008354   0.003947       0.003408    0.014435   \n24     0.122597  0.001897     0.005623   0.002657       0.002754    0.011667   \n25     0.099119  0.001534     0.003397   0.001605       0.002226    0.009431   \n26     0.080147  0.001240     0.001607   0.000759       0.001800    0.007625   \n\n        ro_k  \n1        ---  \n2      0.454  \n3   0.508762  \n4   0.916232  \n5    0.73277  \n6   0.803718  \n7   0.779478  \n8   0.794727  \n9   0.792548  \n10  0.797308  \n11  0.798441  \n12  0.800661  \n13  0.801956  \n14   0.80328  \n15  0.804269  \n16  0.805134  \n17  0.805827  \n18  0.806407  \n19  0.806879  \n20  0.807268  \n21  0.807587  \n22  0.807848  \n23  0.808061  \n24  0.808236  \n25  0.808379  \n26  0.808496  ",
      "text/html": "<div>\n<style scoped>\n    .dataframe tbody tr th:only-of-type {\n        vertical-align: middle;\n    }\n\n    .dataframe tbody tr th {\n        vertical-align: top;\n    }\n\n    .dataframe thead th {\n        text-align: right;\n    }\n</style>\n<table border=\"1\" class=\"dataframe\">\n  <thead>\n    <tr style=\"text-align: right;\">\n      <th></th>\n      <th>||F - AUk||</th>\n      <th>rel.d.</th>\n      <th>||Uk − u*||</th>\n      <th>rel.error</th>\n      <th>||Uk − Uk-1||</th>\n      <th>apost.est.</th>\n      <th>ro_k</th>\n    </tr>\n  </thead>\n  <tbody>\n    <tr>\n      <th>1</th>\n      <td>29.342481</td>\n      <td>0.454000</td>\n      <td>1.732938</td>\n      <td>0.818731</td>\n      <td>1.173699</td>\n      <td>4.971870</td>\n      <td>---</td>\n    </tr>\n    <tr>\n      <th>2</th>\n      <td>14.928344</td>\n      <td>0.230978</td>\n      <td>1.222781</td>\n      <td>0.577706</td>\n      <td>0.532860</td>\n      <td>2.257230</td>\n      <td>0.454</td>\n    </tr>\n    <tr>\n      <th>3</th>\n      <td>13.677833</td>\n      <td>0.211630</td>\n      <td>1.031761</td>\n      <td>0.487458</td>\n      <td>0.271099</td>\n      <td>1.148393</td>\n      <td>0.508762</td>\n    </tr>\n    <tr>\n      <th>4</th>\n      <td>10.022704</td>\n      <td>0.155076</td>\n      <td>0.813598</td>\n      <td>0.384386</td>\n      <td>0.248390</td>\n      <td>1.052195</td>\n      <td>0.916232</td>\n    </tr>\n    <tr>\n      <th>5</th>\n      <td>8.055430</td>\n      <td>0.124637</td>\n      <td>0.659106</td>\n      <td>0.311396</td>\n      <td>0.182012</td>\n      <td>0.771017</td>\n      <td>0.73277</td>\n    </tr>\n    <tr>\n      <th>6</th>\n      <td>6.279030</td>\n      <td>0.097152</td>\n      <td>0.528772</td>\n      <td>0.249820</td>\n      <td>0.146287</td>\n      <td>0.619680</td>\n      <td>0.803718</td>\n    </tr>\n    <tr>\n      <th>7</th>\n      <td>4.990112</td>\n      <td>0.077209</td>\n      <td>0.425592</td>\n      <td>0.201072</td>\n      <td>0.114027</td>\n      <td>0.483027</td>\n      <td>0.779478</td>\n    </tr>\n    <tr>\n      <th>8</th>\n      <td>3.954901</td>\n      <td>0.061192</td>\n      <td>0.342491</td>\n      <td>0.161811</td>\n      <td>0.090620</td>\n      <td>0.383874</td>\n      <td>0.794727</td>\n    </tr>\n    <tr>\n      <th>9</th>\n      <td>3.153276</td>\n      <td>0.048789</td>\n      <td>0.275036</td>\n      <td>0.129941</td>\n      <td>0.071821</td>\n      <td>0.304239</td>\n      <td>0.792548</td>\n    </tr>\n    <tr>\n      <th>10</th>\n      <td>2.517703</td>\n      <td>0.038955</td>\n      <td>0.221337</td>\n      <td>0.104571</td>\n      <td>0.057264</td>\n      <td>0.242572</td>\n      <td>0.797308</td>\n    </tr>\n    <tr>\n      <th>11</th>\n      <td>2.015827</td>\n      <td>0.031190</td>\n      <td>0.177256</td>\n      <td>0.083745</td>\n      <td>0.045722</td>\n      <td>0.193679</td>\n      <td>0.798441</td>\n    </tr>\n    <tr>\n      <th>12</th>\n      <td>1.616604</td>\n      <td>0.025013</td>\n      <td>0.142456</td>\n      <td>0.067304</td>\n      <td>0.036607</td>\n      <td>0.155072</td>\n      <td>0.800661</td>\n    </tr>\n    <tr>\n      <th>13</th>\n      <td>1.298586</td>\n      <td>0.020092</td>\n      <td>0.113563</td>\n      <td>0.053653</td>\n      <td>0.029358</td>\n      <td>0.124361</td>\n      <td>0.801956</td>\n    </tr>\n    <tr>\n      <th>14</th>\n      <td>1.044412</td>\n      <td>0.016160</td>\n      <td>0.091017</td>\n      <td>0.043001</td>\n      <td>0.023582</td>\n      <td>0.099896</td>\n      <td>0.80328</td>\n    </tr>\n    <tr>\n      <th>15</th>\n      <td>0.840892</td>\n      <td>0.013011</td>\n      <td>0.072051</td>\n      <td>0.034040</td>\n      <td>0.018967</td>\n      <td>0.080344</td>\n      <td>0.804269</td>\n    </tr>\n    <tr>\n      <th>16</th>\n      <td>0.677614</td>\n      <td>0.010484</td>\n      <td>0.057434</td>\n      <td>0.027135</td>\n      <td>0.015271</td>\n      <td>0.064687</td>\n      <td>0.805134</td>\n    </tr>\n    <tr>\n      <th>17</th>\n      <td>0.546432</td>\n      <td>0.008455</td>\n      <td>0.045129</td>\n      <td>0.021321</td>\n      <td>0.012305</td>\n      <td>0.052127</td>\n      <td>0.805827</td>\n    </tr>\n    <tr>\n      <th>18</th>\n      <td>0.440904</td>\n      <td>0.006822</td>\n      <td>0.035490</td>\n      <td>0.016768</td>\n      <td>0.009923</td>\n      <td>0.042035</td>\n      <td>0.806407</td>\n    </tr>\n    <tr>\n      <th>19</th>\n      <td>0.355928</td>\n      <td>0.005507</td>\n      <td>0.027484</td>\n      <td>0.012985</td>\n      <td>0.008007</td>\n      <td>0.033917</td>\n      <td>0.806879</td>\n    </tr>\n    <tr>\n      <th>20</th>\n      <td>0.287443</td>\n      <td>0.004447</td>\n      <td>0.021144</td>\n      <td>0.009990</td>\n      <td>0.006464</td>\n      <td>0.027380</td>\n      <td>0.807268</td>\n    </tr>\n    <tr>\n      <th>21</th>\n      <td>0.232210</td>\n      <td>0.003593</td>\n      <td>0.015924</td>\n      <td>0.007523</td>\n      <td>0.005220</td>\n      <td>0.022112</td>\n      <td>0.807587</td>\n    </tr>\n    <tr>\n      <th>22</th>\n      <td>0.187640</td>\n      <td>0.002903</td>\n      <td>0.011761</td>\n      <td>0.005557</td>\n      <td>0.004217</td>\n      <td>0.017863</td>\n      <td>0.807848</td>\n    </tr>\n    <tr>\n      <th>23</th>\n      <td>0.151657</td>\n      <td>0.002347</td>\n      <td>0.008354</td>\n      <td>0.003947</td>\n      <td>0.003408</td>\n      <td>0.014435</td>\n      <td>0.808061</td>\n    </tr>\n    <tr>\n      <th>24</th>\n      <td>0.122597</td>\n      <td>0.001897</td>\n      <td>0.005623</td>\n      <td>0.002657</td>\n      <td>0.002754</td>\n      <td>0.011667</td>\n      <td>0.808236</td>\n    </tr>\n    <tr>\n      <th>25</th>\n      <td>0.099119</td>\n      <td>0.001534</td>\n      <td>0.003397</td>\n      <td>0.001605</td>\n      <td>0.002226</td>\n      <td>0.009431</td>\n      <td>0.808379</td>\n    </tr>\n    <tr>\n      <th>26</th>\n      <td>0.080147</td>\n      <td>0.001240</td>\n      <td>0.001607</td>\n      <td>0.000759</td>\n      <td>0.001800</td>\n      <td>0.007625</td>\n      <td>0.808496</td>\n    </tr>\n  </tbody>\n</table>\n</div>"
     },
     "execution_count": 5,
     "metadata": {},
     "output_type": "execute_result"
    }
   ],
   "source": [
    "from task1_2 import simple_iterations_optimal\n",
    "\n",
    "tau = 2 / (sigma(h_x, h_y) + delta(h_x, h_y))\n",
    "print(\"tau: \", tau)\n",
    "\n",
    "simple_iter_optimal_U, table = simple_iterations_optimal(U_init, tau, std_output=False)\n",
    "table"
   ],
   "metadata": {
    "collapsed": false,
    "ExecuteTime": {
     "end_time": "2024-01-23T05:36:10.520153Z",
     "start_time": "2024-01-23T05:36:10.478939Z"
    }
   },
   "id": "7276252bd0c7ed0c",
   "execution_count": 5
  },
  {
   "cell_type": "markdown",
   "source": [
    "Численное решение:"
   ],
   "metadata": {
    "collapsed": false
   },
   "id": "b4bf6f9adea116e"
  },
  {
   "cell_type": "code",
   "outputs": [
    {
     "data": {
      "text/plain": "array([[0.     , 0.     , 0.     , 0.     , 0.     , 0.     ],\n       [0.58779, 0.71734, 0.87588, 1.0703 , 1.30811, 1.59777],\n       [0.95106, 1.16068, 1.4172 , 1.73177, 2.11656, 2.58524],\n       [0.95106, 1.16068, 1.4172 , 1.73177, 2.11656, 2.58524],\n       [0.58779, 0.71734, 0.87588, 1.0703 , 1.30811, 1.59777],\n       [0.     , 0.     , 0.     , 0.     , 0.     , 0.     ]])"
     },
     "execution_count": 6,
     "metadata": {},
     "output_type": "execute_result"
    }
   ],
   "source": [
    "simple_iter_optimal_U.T"
   ],
   "metadata": {
    "collapsed": false,
    "ExecuteTime": {
     "end_time": "2024-01-23T05:36:10.540437Z",
     "start_time": "2024-01-23T05:36:10.497365Z"
    }
   },
   "id": "8ca48b6868f8661c",
   "execution_count": 6
  },
  {
   "cell_type": "markdown",
   "source": [
    "## Метод Зейделя"
   ],
   "metadata": {
    "collapsed": false
   },
   "id": "eb3e049963c7cfc0"
  },
  {
   "cell_type": "code",
   "outputs": [
    {
     "data": {
      "text/plain": "    ||F - AUk||    rel.d.  ||Uk − u*||  rel.error  ||Uk − Uk-1||  apost.est.  \\\n1     32.113218  0.496870     1.636351   0.773098       1.277591    5.411964   \n2     16.742663  0.259050     1.101019   0.520179       0.662862    2.807928   \n3      9.731242  0.150566     0.770221   0.363893       0.354324    1.500941   \n4      6.797093  0.105168     0.515080   0.243351       0.257814    1.092117   \n5      4.703357  0.072772     0.339912   0.160592       0.175168    0.742022   \n6      3.145299  0.048665     0.222817   0.105271       0.117095    0.496023   \n7      2.085372  0.032266     0.145112   0.068558       0.077705    0.329166   \n8      1.378776  0.021333     0.093682   0.044260       0.051430    0.217862   \n9      0.910272  0.014084     0.059694   0.028202       0.033988    0.143976   \n10     0.600309  0.009288     0.037259   0.017603       0.022435    0.095035   \n11     0.395526  0.006120     0.022465   0.010614       0.014794    0.062667   \n12     0.260390  0.004029     0.012719   0.006009       0.009746    0.041286   \n\n        ro_k  \n1        ---  \n2   0.518837  \n3   0.534537  \n4   0.727621  \n5   0.679434  \n6   0.668475  \n7    0.66361  \n8    0.66186  \n9   0.660858  \n10  0.660077  \n11  0.659404  \n12  0.658813  ",
      "text/html": "<div>\n<style scoped>\n    .dataframe tbody tr th:only-of-type {\n        vertical-align: middle;\n    }\n\n    .dataframe tbody tr th {\n        vertical-align: top;\n    }\n\n    .dataframe thead th {\n        text-align: right;\n    }\n</style>\n<table border=\"1\" class=\"dataframe\">\n  <thead>\n    <tr style=\"text-align: right;\">\n      <th></th>\n      <th>||F - AUk||</th>\n      <th>rel.d.</th>\n      <th>||Uk − u*||</th>\n      <th>rel.error</th>\n      <th>||Uk − Uk-1||</th>\n      <th>apost.est.</th>\n      <th>ro_k</th>\n    </tr>\n  </thead>\n  <tbody>\n    <tr>\n      <th>1</th>\n      <td>32.113218</td>\n      <td>0.496870</td>\n      <td>1.636351</td>\n      <td>0.773098</td>\n      <td>1.277591</td>\n      <td>5.411964</td>\n      <td>---</td>\n    </tr>\n    <tr>\n      <th>2</th>\n      <td>16.742663</td>\n      <td>0.259050</td>\n      <td>1.101019</td>\n      <td>0.520179</td>\n      <td>0.662862</td>\n      <td>2.807928</td>\n      <td>0.518837</td>\n    </tr>\n    <tr>\n      <th>3</th>\n      <td>9.731242</td>\n      <td>0.150566</td>\n      <td>0.770221</td>\n      <td>0.363893</td>\n      <td>0.354324</td>\n      <td>1.500941</td>\n      <td>0.534537</td>\n    </tr>\n    <tr>\n      <th>4</th>\n      <td>6.797093</td>\n      <td>0.105168</td>\n      <td>0.515080</td>\n      <td>0.243351</td>\n      <td>0.257814</td>\n      <td>1.092117</td>\n      <td>0.727621</td>\n    </tr>\n    <tr>\n      <th>5</th>\n      <td>4.703357</td>\n      <td>0.072772</td>\n      <td>0.339912</td>\n      <td>0.160592</td>\n      <td>0.175168</td>\n      <td>0.742022</td>\n      <td>0.679434</td>\n    </tr>\n    <tr>\n      <th>6</th>\n      <td>3.145299</td>\n      <td>0.048665</td>\n      <td>0.222817</td>\n      <td>0.105271</td>\n      <td>0.117095</td>\n      <td>0.496023</td>\n      <td>0.668475</td>\n    </tr>\n    <tr>\n      <th>7</th>\n      <td>2.085372</td>\n      <td>0.032266</td>\n      <td>0.145112</td>\n      <td>0.068558</td>\n      <td>0.077705</td>\n      <td>0.329166</td>\n      <td>0.66361</td>\n    </tr>\n    <tr>\n      <th>8</th>\n      <td>1.378776</td>\n      <td>0.021333</td>\n      <td>0.093682</td>\n      <td>0.044260</td>\n      <td>0.051430</td>\n      <td>0.217862</td>\n      <td>0.66186</td>\n    </tr>\n    <tr>\n      <th>9</th>\n      <td>0.910272</td>\n      <td>0.014084</td>\n      <td>0.059694</td>\n      <td>0.028202</td>\n      <td>0.033988</td>\n      <td>0.143976</td>\n      <td>0.660858</td>\n    </tr>\n    <tr>\n      <th>10</th>\n      <td>0.600309</td>\n      <td>0.009288</td>\n      <td>0.037259</td>\n      <td>0.017603</td>\n      <td>0.022435</td>\n      <td>0.095035</td>\n      <td>0.660077</td>\n    </tr>\n    <tr>\n      <th>11</th>\n      <td>0.395526</td>\n      <td>0.006120</td>\n      <td>0.022465</td>\n      <td>0.010614</td>\n      <td>0.014794</td>\n      <td>0.062667</td>\n      <td>0.659404</td>\n    </tr>\n    <tr>\n      <th>12</th>\n      <td>0.260390</td>\n      <td>0.004029</td>\n      <td>0.012719</td>\n      <td>0.006009</td>\n      <td>0.009746</td>\n      <td>0.041286</td>\n      <td>0.658813</td>\n    </tr>\n  </tbody>\n</table>\n</div>"
     },
     "execution_count": 7,
     "metadata": {},
     "output_type": "execute_result"
    }
   ],
   "source": [
    "from task1_3 import zeidel\n",
    "\n",
    "zeidel_U, table = zeidel(U_init, std_output=False)\n",
    "table"
   ],
   "metadata": {
    "collapsed": false,
    "ExecuteTime": {
     "end_time": "2024-01-23T05:36:10.541666Z",
     "start_time": "2024-01-23T05:36:10.500015Z"
    }
   },
   "id": "7ac466363095667f",
   "execution_count": 7
  },
  {
   "cell_type": "markdown",
   "source": [
    "Численное решение:"
   ],
   "metadata": {
    "collapsed": false
   },
   "id": "8f5fd3de767fe5ba"
  },
  {
   "cell_type": "code",
   "outputs": [
    {
     "data": {
      "text/plain": "array([[0.     , 0.     , 0.     , 0.     , 0.     , 0.     ],\n       [0.58779, 0.71002, 0.86712, 1.06405, 1.30551, 1.59777],\n       [0.95106, 1.15112, 1.40609, 1.7242 , 2.11366, 2.58524],\n       [0.95106, 1.153  , 1.40862, 1.7263 , 2.11473, 2.58524],\n       [0.58779, 0.71372, 0.87208, 1.06815, 1.3076 , 1.59777],\n       [0.     , 0.     , 0.     , 0.     , 0.     , 0.     ]])"
     },
     "execution_count": 8,
     "metadata": {},
     "output_type": "execute_result"
    }
   ],
   "source": [
    "zeidel_U.T"
   ],
   "metadata": {
    "collapsed": false,
    "ExecuteTime": {
     "end_time": "2024-01-23T05:36:10.568001Z",
     "start_time": "2024-01-23T05:36:10.511499Z"
    }
   },
   "id": "137d8e5a19411ce2",
   "execution_count": 8
  },
  {
   "cell_type": "markdown",
   "source": [
    "## Метод верхней релаксации"
   ],
   "metadata": {
    "collapsed": false
   },
   "id": "cf9e0cab50389a45"
  },
  {
   "cell_type": "code",
   "outputs": [
    {
     "data": {
      "text/plain": "   ||F - AUk||    rel.d.  ||Uk − u*||  rel.error  ||Uk − Uk-1||  apost.est.  \\\n1    40.335165  0.624084     1.535965   0.725671       1.694540    7.178185   \n2    24.905832  0.385354     0.989177   0.467339       1.033034    4.376004   \n3    15.261894  0.236139     0.477280   0.225492       0.625544    2.649846   \n4     3.440887  0.053239     0.144704   0.068366       0.368808    1.562296   \n5     1.518442  0.023494     0.054751   0.025867       0.091685    0.388384   \n6     0.622768  0.009636     0.018374   0.008681       0.038608    0.163544   \n\n       ro_k  \n1       ---  \n2  0.609625  \n3   0.60554  \n4   0.58958  \n5  0.248598  \n6   0.42109  ",
      "text/html": "<div>\n<style scoped>\n    .dataframe tbody tr th:only-of-type {\n        vertical-align: middle;\n    }\n\n    .dataframe tbody tr th {\n        vertical-align: top;\n    }\n\n    .dataframe thead th {\n        text-align: right;\n    }\n</style>\n<table border=\"1\" class=\"dataframe\">\n  <thead>\n    <tr style=\"text-align: right;\">\n      <th></th>\n      <th>||F - AUk||</th>\n      <th>rel.d.</th>\n      <th>||Uk − u*||</th>\n      <th>rel.error</th>\n      <th>||Uk − Uk-1||</th>\n      <th>apost.est.</th>\n      <th>ro_k</th>\n    </tr>\n  </thead>\n  <tbody>\n    <tr>\n      <th>1</th>\n      <td>40.335165</td>\n      <td>0.624084</td>\n      <td>1.535965</td>\n      <td>0.725671</td>\n      <td>1.694540</td>\n      <td>7.178185</td>\n      <td>---</td>\n    </tr>\n    <tr>\n      <th>2</th>\n      <td>24.905832</td>\n      <td>0.385354</td>\n      <td>0.989177</td>\n      <td>0.467339</td>\n      <td>1.033034</td>\n      <td>4.376004</td>\n      <td>0.609625</td>\n    </tr>\n    <tr>\n      <th>3</th>\n      <td>15.261894</td>\n      <td>0.236139</td>\n      <td>0.477280</td>\n      <td>0.225492</td>\n      <td>0.625544</td>\n      <td>2.649846</td>\n      <td>0.60554</td>\n    </tr>\n    <tr>\n      <th>4</th>\n      <td>3.440887</td>\n      <td>0.053239</td>\n      <td>0.144704</td>\n      <td>0.068366</td>\n      <td>0.368808</td>\n      <td>1.562296</td>\n      <td>0.58958</td>\n    </tr>\n    <tr>\n      <th>5</th>\n      <td>1.518442</td>\n      <td>0.023494</td>\n      <td>0.054751</td>\n      <td>0.025867</td>\n      <td>0.091685</td>\n      <td>0.388384</td>\n      <td>0.248598</td>\n    </tr>\n    <tr>\n      <th>6</th>\n      <td>0.622768</td>\n      <td>0.009636</td>\n      <td>0.018374</td>\n      <td>0.008681</td>\n      <td>0.038608</td>\n      <td>0.163544</td>\n      <td>0.42109</td>\n    </tr>\n  </tbody>\n</table>\n</div>"
     },
     "execution_count": 9,
     "metadata": {},
     "output_type": "execute_result"
    }
   ],
   "source": [
    "from task1_4 import up_relax\n",
    "\n",
    "up_relax_U, table = up_relax(U_init, std_output=False)\n",
    "table"
   ],
   "metadata": {
    "collapsed": false,
    "ExecuteTime": {
     "end_time": "2024-01-23T05:36:10.592882Z",
     "start_time": "2024-01-23T05:36:10.514801Z"
    }
   },
   "id": "b6be35b0039af917",
   "execution_count": 9
  },
  {
   "cell_type": "markdown",
   "source": [
    "Численное решение:"
   ],
   "metadata": {
    "collapsed": false
   },
   "id": "e6d294b92cb24ff6"
  },
  {
   "cell_type": "code",
   "outputs": [
    {
     "data": {
      "text/plain": "array([[0.     , 0.     , 0.     , 0.     , 0.     , 0.     ],\n       [0.58779, 0.70023, 0.8607 , 1.06306, 1.30658, 1.59777],\n       [0.95106, 1.14325, 1.4044 , 1.72763, 2.11713, 2.58524],\n       [0.95106, 1.15156, 1.41372, 1.73327, 2.11917, 2.58524],\n       [0.58779, 0.71589, 0.87795, 1.07302, 1.31044, 1.59777],\n       [0.     , 0.     , 0.     , 0.     , 0.     , 0.     ]])"
     },
     "execution_count": 10,
     "metadata": {},
     "output_type": "execute_result"
    }
   ],
   "source": [
    "up_relax_U.T"
   ],
   "metadata": {
    "collapsed": false,
    "ExecuteTime": {
     "end_time": "2024-01-23T05:36:10.593336Z",
     "start_time": "2024-01-23T05:36:10.523840Z"
    }
   },
   "id": "e6ece31be7a276a3",
   "execution_count": 10
  },
  {
   "cell_type": "markdown",
   "source": [
    "## Итерационный метод с чебышевским набором параметров"
   ],
   "metadata": {
    "collapsed": false
   },
   "id": "a9ebbbda25f9c71b"
  },
  {
   "cell_type": "code",
   "outputs": [
    {
     "data": {
      "text/plain": "     ||F - AUk||    rel.d.  ||Uk − u*||  rel.error  ||Uk − Uk-1||  apost.est.\n1      64.009313  0.990381     2.104418   0.994237       0.012198    0.051670\n2      59.759417  0.924625     2.020838   0.954750       0.083580    0.354049\n3      59.007389  0.912989     2.005789   0.947640       0.015049    0.063748\n4      57.603400  0.891266     1.977603   0.934323       0.028186    0.119399\n5      57.065264  0.882940     1.966732   0.929187       0.010871    0.046051\n..           ...       ...          ...        ...            ...         ...\n923     0.087175  0.001349     0.002291   0.001083       0.000022    0.000093\n924     0.086737  0.001342     0.002250   0.001063       0.000042    0.000176\n925     0.086565  0.001339     0.002233   0.001055       0.000016    0.000069\n926     0.085376  0.001321     0.002120   0.001002       0.000113    0.000479\n927     0.085150  0.001317     0.002099   0.000992       0.000021    0.000091\n\n[927 rows x 6 columns]",
      "text/html": "<div>\n<style scoped>\n    .dataframe tbody tr th:only-of-type {\n        vertical-align: middle;\n    }\n\n    .dataframe tbody tr th {\n        vertical-align: top;\n    }\n\n    .dataframe thead th {\n        text-align: right;\n    }\n</style>\n<table border=\"1\" class=\"dataframe\">\n  <thead>\n    <tr style=\"text-align: right;\">\n      <th></th>\n      <th>||F - AUk||</th>\n      <th>rel.d.</th>\n      <th>||Uk − u*||</th>\n      <th>rel.error</th>\n      <th>||Uk − Uk-1||</th>\n      <th>apost.est.</th>\n    </tr>\n  </thead>\n  <tbody>\n    <tr>\n      <th>1</th>\n      <td>64.009313</td>\n      <td>0.990381</td>\n      <td>2.104418</td>\n      <td>0.994237</td>\n      <td>0.012198</td>\n      <td>0.051670</td>\n    </tr>\n    <tr>\n      <th>2</th>\n      <td>59.759417</td>\n      <td>0.924625</td>\n      <td>2.020838</td>\n      <td>0.954750</td>\n      <td>0.083580</td>\n      <td>0.354049</td>\n    </tr>\n    <tr>\n      <th>3</th>\n      <td>59.007389</td>\n      <td>0.912989</td>\n      <td>2.005789</td>\n      <td>0.947640</td>\n      <td>0.015049</td>\n      <td>0.063748</td>\n    </tr>\n    <tr>\n      <th>4</th>\n      <td>57.603400</td>\n      <td>0.891266</td>\n      <td>1.977603</td>\n      <td>0.934323</td>\n      <td>0.028186</td>\n      <td>0.119399</td>\n    </tr>\n    <tr>\n      <th>5</th>\n      <td>57.065264</td>\n      <td>0.882940</td>\n      <td>1.966732</td>\n      <td>0.929187</td>\n      <td>0.010871</td>\n      <td>0.046051</td>\n    </tr>\n    <tr>\n      <th>...</th>\n      <td>...</td>\n      <td>...</td>\n      <td>...</td>\n      <td>...</td>\n      <td>...</td>\n      <td>...</td>\n    </tr>\n    <tr>\n      <th>923</th>\n      <td>0.087175</td>\n      <td>0.001349</td>\n      <td>0.002291</td>\n      <td>0.001083</td>\n      <td>0.000022</td>\n      <td>0.000093</td>\n    </tr>\n    <tr>\n      <th>924</th>\n      <td>0.086737</td>\n      <td>0.001342</td>\n      <td>0.002250</td>\n      <td>0.001063</td>\n      <td>0.000042</td>\n      <td>0.000176</td>\n    </tr>\n    <tr>\n      <th>925</th>\n      <td>0.086565</td>\n      <td>0.001339</td>\n      <td>0.002233</td>\n      <td>0.001055</td>\n      <td>0.000016</td>\n      <td>0.000069</td>\n    </tr>\n    <tr>\n      <th>926</th>\n      <td>0.085376</td>\n      <td>0.001321</td>\n      <td>0.002120</td>\n      <td>0.001002</td>\n      <td>0.000113</td>\n      <td>0.000479</td>\n    </tr>\n    <tr>\n      <th>927</th>\n      <td>0.085150</td>\n      <td>0.001317</td>\n      <td>0.002099</td>\n      <td>0.000992</td>\n      <td>0.000021</td>\n      <td>0.000091</td>\n    </tr>\n  </tbody>\n</table>\n<p>927 rows × 6 columns</p>\n</div>"
     },
     "execution_count": 11,
     "metadata": {},
     "output_type": "execute_result"
    }
   ],
   "source": [
    "from task1_5 import chebyshev\n",
    "\n",
    "chebyshev_U, table = chebyshev(U_init, std_output=False)\n",
    "table"
   ],
   "metadata": {
    "collapsed": false,
    "ExecuteTime": {
     "end_time": "2024-01-23T05:36:10.895523Z",
     "start_time": "2024-01-23T05:36:10.526132Z"
    }
   },
   "id": "9101f84145f28c3e",
   "execution_count": 11
  },
  {
   "cell_type": "markdown",
   "source": [
    "Численное решение:"
   ],
   "metadata": {
    "collapsed": false
   },
   "id": "daa260f35d3422e0"
  },
  {
   "cell_type": "code",
   "outputs": [
    {
     "data": {
      "text/plain": "array([[0.     , 0.     , 0.     , 0.     , 0.     , 0.     ],\n       [0.58779, 0.71715, 0.87558, 1.06999, 1.30792, 1.59777],\n       [0.95106, 1.16038, 1.41671, 1.73128, 2.11626, 2.58524],\n       [0.95106, 1.16038, 1.41671, 1.73128, 2.11626, 2.58524],\n       [0.58779, 0.71715, 0.87558, 1.06999, 1.30792, 1.59777],\n       [0.     , 0.     , 0.     , 0.     , 0.     , 0.     ]])"
     },
     "execution_count": 12,
     "metadata": {},
     "output_type": "execute_result"
    }
   ],
   "source": [
    "chebyshev_U.T"
   ],
   "metadata": {
    "collapsed": false,
    "ExecuteTime": {
     "end_time": "2024-01-23T05:36:10.901333Z",
     "start_time": "2024-01-23T05:36:10.893571Z"
    }
   },
   "id": "f6e9345d23a28d4e",
   "execution_count": 12
  },
  {
   "cell_type": "markdown",
   "source": [
    "## Попеременно-треугольный итерационный метод"
   ],
   "metadata": {
    "collapsed": false
   },
   "id": "cd52f117bb752d78"
  },
  {
   "cell_type": "code",
   "outputs": [
    {
     "data": {
      "text/plain": "   ||F - AUk||    rel.d.  ||Uk − u*||  rel.error  ||Uk − Uk-1||  apost.est.\n1    13.050158  0.201918     0.480184   0.226864       1.746515    7.398355\n2     2.587919  0.040041     0.150943   0.071313       0.329241    1.394686\n3     1.443013  0.022327     0.029652   0.014009       0.139329    0.590209\n4     0.334746  0.005179     0.009008   0.004256       0.030082    0.127431",
      "text/html": "<div>\n<style scoped>\n    .dataframe tbody tr th:only-of-type {\n        vertical-align: middle;\n    }\n\n    .dataframe tbody tr th {\n        vertical-align: top;\n    }\n\n    .dataframe thead th {\n        text-align: right;\n    }\n</style>\n<table border=\"1\" class=\"dataframe\">\n  <thead>\n    <tr style=\"text-align: right;\">\n      <th></th>\n      <th>||F - AUk||</th>\n      <th>rel.d.</th>\n      <th>||Uk − u*||</th>\n      <th>rel.error</th>\n      <th>||Uk − Uk-1||</th>\n      <th>apost.est.</th>\n    </tr>\n  </thead>\n  <tbody>\n    <tr>\n      <th>1</th>\n      <td>13.050158</td>\n      <td>0.201918</td>\n      <td>0.480184</td>\n      <td>0.226864</td>\n      <td>1.746515</td>\n      <td>7.398355</td>\n    </tr>\n    <tr>\n      <th>2</th>\n      <td>2.587919</td>\n      <td>0.040041</td>\n      <td>0.150943</td>\n      <td>0.071313</td>\n      <td>0.329241</td>\n      <td>1.394686</td>\n    </tr>\n    <tr>\n      <th>3</th>\n      <td>1.443013</td>\n      <td>0.022327</td>\n      <td>0.029652</td>\n      <td>0.014009</td>\n      <td>0.139329</td>\n      <td>0.590209</td>\n    </tr>\n    <tr>\n      <th>4</th>\n      <td>0.334746</td>\n      <td>0.005179</td>\n      <td>0.009008</td>\n      <td>0.004256</td>\n      <td>0.030082</td>\n      <td>0.127431</td>\n    </tr>\n  </tbody>\n</table>\n</div>"
     },
     "execution_count": 13,
     "metadata": {},
     "output_type": "execute_result"
    }
   ],
   "source": [
    "from task1_6 import triangle\n",
    "\n",
    "triangle_U, table = triangle(U_init, std_output=False)\n",
    "table"
   ],
   "metadata": {
    "collapsed": false,
    "ExecuteTime": {
     "end_time": "2024-01-23T05:36:10.919411Z",
     "start_time": "2024-01-23T05:36:10.899144Z"
    }
   },
   "id": "140ff5d62610e164",
   "execution_count": 13
  },
  {
   "cell_type": "markdown",
   "source": [
    "Численное решение:"
   ],
   "metadata": {
    "collapsed": false
   },
   "id": "9e0d61bbffd34acb"
  },
  {
   "cell_type": "code",
   "outputs": [
    {
     "data": {
      "text/plain": "array([[0.     , 0.     , 0.     , 0.     , 0.     , 0.     ],\n       [0.58779, 0.71219, 0.87369, 1.06806, 1.30622, 1.59777],\n       [0.95106, 1.1527 , 1.41237, 1.72734, 2.11354, 2.58524],\n       [0.95106, 1.15262, 1.41145, 1.72689, 2.11367, 2.58524],\n       [0.58779, 0.71237, 0.87175, 1.06712, 1.30655, 1.59777],\n       [0.     , 0.     , 0.     , 0.     , 0.     , 0.     ]])"
     },
     "execution_count": 14,
     "metadata": {},
     "output_type": "execute_result"
    }
   ],
   "source": [
    "triangle_U.T"
   ],
   "metadata": {
    "collapsed": false,
    "ExecuteTime": {
     "end_time": "2024-01-23T05:36:10.962173Z",
     "start_time": "2024-01-23T05:36:10.924600Z"
    }
   },
   "id": "297f96ffa889ab74",
   "execution_count": 14
  },
  {
   "cell_type": "markdown",
   "source": [
    "## Попеременно-треугольный итерационный метод с чебышевским набором параметров"
   ],
   "metadata": {
    "collapsed": false
   },
   "id": "2cf44be44f28f6bd"
  },
  {
   "cell_type": "code",
   "outputs": [
    {
     "data": {
      "text/plain": "    ||F - AUk||    rel.d.  ||Uk − u*||  rel.error  ||Uk − Uk-1||  apost.est.\n1     61.057741  0.944713     2.007690   0.948538       0.109452    0.463647\n2     37.715829  0.583556     1.293641   0.611184       0.717263    3.038374\n3     34.952595  0.540802     1.205896   0.569728       0.087841    0.372100\n4     30.099802  0.465718     1.050939   0.496518       0.155071    0.656890\n5     28.451975  0.440222     0.997715   0.471373       0.053225    0.225465\n6     17.683230  0.273603     0.648421   0.306348       0.349294    1.479634\n7     16.402623  0.253789     0.605006   0.285837       0.043415    0.183907\n8     14.151951  0.218965     0.528233   0.249565       0.076774    0.325219\n9     13.386522  0.207122     0.501791   0.237072       0.026442    0.112009\n10     8.381443  0.129681     0.341631   0.161405       0.173699    0.735801\n11     7.782524  0.120415     0.320967   0.151642       0.021800    0.092347\n12     6.728955  0.104113     0.284088   0.134218       0.038597    0.163498\n13     6.369969  0.098559     0.271152   0.128106       0.013325    0.056444\n14     4.020945  0.062214     0.185619   0.087696       0.087605    0.371102\n15     3.737767  0.057832     0.174184   0.082294       0.011434    0.048437\n16     3.239107  0.050117     0.153780   0.072654       0.020404    0.086432\n17     3.068834  0.047482     0.146626   0.069274       0.007155    0.030309\n18     1.953790  0.030230     0.099323   0.046925       0.047303    0.200378\n19     1.818268  0.028133     0.093007   0.043941       0.006316    0.026755\n20     1.579356  0.024437     0.081738   0.038617       0.011268    0.047733\n21     1.497592  0.023171     0.077789   0.036751       0.003950    0.016731\n22     0.961709  0.014880     0.051681   0.024417       0.026108    0.110594\n23     0.896017  0.013864     0.048200   0.022772       0.003481    0.014744\n24     0.780076  0.012070     0.041992   0.019839       0.006208    0.026299\n25     0.740305  0.011454     0.039817   0.018812       0.002175    0.009214\n26     0.479421  0.007418     0.025441   0.012020       0.014376    0.060896\n27     0.447161  0.006919     0.023528   0.011116       0.001914    0.008106\n28     0.390162  0.006037     0.020115   0.009503       0.003413    0.014456",
      "text/html": "<div>\n<style scoped>\n    .dataframe tbody tr th:only-of-type {\n        vertical-align: middle;\n    }\n\n    .dataframe tbody tr th {\n        vertical-align: top;\n    }\n\n    .dataframe thead th {\n        text-align: right;\n    }\n</style>\n<table border=\"1\" class=\"dataframe\">\n  <thead>\n    <tr style=\"text-align: right;\">\n      <th></th>\n      <th>||F - AUk||</th>\n      <th>rel.d.</th>\n      <th>||Uk − u*||</th>\n      <th>rel.error</th>\n      <th>||Uk − Uk-1||</th>\n      <th>apost.est.</th>\n    </tr>\n  </thead>\n  <tbody>\n    <tr>\n      <th>1</th>\n      <td>61.057741</td>\n      <td>0.944713</td>\n      <td>2.007690</td>\n      <td>0.948538</td>\n      <td>0.109452</td>\n      <td>0.463647</td>\n    </tr>\n    <tr>\n      <th>2</th>\n      <td>37.715829</td>\n      <td>0.583556</td>\n      <td>1.293641</td>\n      <td>0.611184</td>\n      <td>0.717263</td>\n      <td>3.038374</td>\n    </tr>\n    <tr>\n      <th>3</th>\n      <td>34.952595</td>\n      <td>0.540802</td>\n      <td>1.205896</td>\n      <td>0.569728</td>\n      <td>0.087841</td>\n      <td>0.372100</td>\n    </tr>\n    <tr>\n      <th>4</th>\n      <td>30.099802</td>\n      <td>0.465718</td>\n      <td>1.050939</td>\n      <td>0.496518</td>\n      <td>0.155071</td>\n      <td>0.656890</td>\n    </tr>\n    <tr>\n      <th>5</th>\n      <td>28.451975</td>\n      <td>0.440222</td>\n      <td>0.997715</td>\n      <td>0.471373</td>\n      <td>0.053225</td>\n      <td>0.225465</td>\n    </tr>\n    <tr>\n      <th>6</th>\n      <td>17.683230</td>\n      <td>0.273603</td>\n      <td>0.648421</td>\n      <td>0.306348</td>\n      <td>0.349294</td>\n      <td>1.479634</td>\n    </tr>\n    <tr>\n      <th>7</th>\n      <td>16.402623</td>\n      <td>0.253789</td>\n      <td>0.605006</td>\n      <td>0.285837</td>\n      <td>0.043415</td>\n      <td>0.183907</td>\n    </tr>\n    <tr>\n      <th>8</th>\n      <td>14.151951</td>\n      <td>0.218965</td>\n      <td>0.528233</td>\n      <td>0.249565</td>\n      <td>0.076774</td>\n      <td>0.325219</td>\n    </tr>\n    <tr>\n      <th>9</th>\n      <td>13.386522</td>\n      <td>0.207122</td>\n      <td>0.501791</td>\n      <td>0.237072</td>\n      <td>0.026442</td>\n      <td>0.112009</td>\n    </tr>\n    <tr>\n      <th>10</th>\n      <td>8.381443</td>\n      <td>0.129681</td>\n      <td>0.341631</td>\n      <td>0.161405</td>\n      <td>0.173699</td>\n      <td>0.735801</td>\n    </tr>\n    <tr>\n      <th>11</th>\n      <td>7.782524</td>\n      <td>0.120415</td>\n      <td>0.320967</td>\n      <td>0.151642</td>\n      <td>0.021800</td>\n      <td>0.092347</td>\n    </tr>\n    <tr>\n      <th>12</th>\n      <td>6.728955</td>\n      <td>0.104113</td>\n      <td>0.284088</td>\n      <td>0.134218</td>\n      <td>0.038597</td>\n      <td>0.163498</td>\n    </tr>\n    <tr>\n      <th>13</th>\n      <td>6.369969</td>\n      <td>0.098559</td>\n      <td>0.271152</td>\n      <td>0.128106</td>\n      <td>0.013325</td>\n      <td>0.056444</td>\n    </tr>\n    <tr>\n      <th>14</th>\n      <td>4.020945</td>\n      <td>0.062214</td>\n      <td>0.185619</td>\n      <td>0.087696</td>\n      <td>0.087605</td>\n      <td>0.371102</td>\n    </tr>\n    <tr>\n      <th>15</th>\n      <td>3.737767</td>\n      <td>0.057832</td>\n      <td>0.174184</td>\n      <td>0.082294</td>\n      <td>0.011434</td>\n      <td>0.048437</td>\n    </tr>\n    <tr>\n      <th>16</th>\n      <td>3.239107</td>\n      <td>0.050117</td>\n      <td>0.153780</td>\n      <td>0.072654</td>\n      <td>0.020404</td>\n      <td>0.086432</td>\n    </tr>\n    <tr>\n      <th>17</th>\n      <td>3.068834</td>\n      <td>0.047482</td>\n      <td>0.146626</td>\n      <td>0.069274</td>\n      <td>0.007155</td>\n      <td>0.030309</td>\n    </tr>\n    <tr>\n      <th>18</th>\n      <td>1.953790</td>\n      <td>0.030230</td>\n      <td>0.099323</td>\n      <td>0.046925</td>\n      <td>0.047303</td>\n      <td>0.200378</td>\n    </tr>\n    <tr>\n      <th>19</th>\n      <td>1.818268</td>\n      <td>0.028133</td>\n      <td>0.093007</td>\n      <td>0.043941</td>\n      <td>0.006316</td>\n      <td>0.026755</td>\n    </tr>\n    <tr>\n      <th>20</th>\n      <td>1.579356</td>\n      <td>0.024437</td>\n      <td>0.081738</td>\n      <td>0.038617</td>\n      <td>0.011268</td>\n      <td>0.047733</td>\n    </tr>\n    <tr>\n      <th>21</th>\n      <td>1.497592</td>\n      <td>0.023171</td>\n      <td>0.077789</td>\n      <td>0.036751</td>\n      <td>0.003950</td>\n      <td>0.016731</td>\n    </tr>\n    <tr>\n      <th>22</th>\n      <td>0.961709</td>\n      <td>0.014880</td>\n      <td>0.051681</td>\n      <td>0.024417</td>\n      <td>0.026108</td>\n      <td>0.110594</td>\n    </tr>\n    <tr>\n      <th>23</th>\n      <td>0.896017</td>\n      <td>0.013864</td>\n      <td>0.048200</td>\n      <td>0.022772</td>\n      <td>0.003481</td>\n      <td>0.014744</td>\n    </tr>\n    <tr>\n      <th>24</th>\n      <td>0.780076</td>\n      <td>0.012070</td>\n      <td>0.041992</td>\n      <td>0.019839</td>\n      <td>0.006208</td>\n      <td>0.026299</td>\n    </tr>\n    <tr>\n      <th>25</th>\n      <td>0.740305</td>\n      <td>0.011454</td>\n      <td>0.039817</td>\n      <td>0.018812</td>\n      <td>0.002175</td>\n      <td>0.009214</td>\n    </tr>\n    <tr>\n      <th>26</th>\n      <td>0.479421</td>\n      <td>0.007418</td>\n      <td>0.025441</td>\n      <td>0.012020</td>\n      <td>0.014376</td>\n      <td>0.060896</td>\n    </tr>\n    <tr>\n      <th>27</th>\n      <td>0.447161</td>\n      <td>0.006919</td>\n      <td>0.023528</td>\n      <td>0.011116</td>\n      <td>0.001914</td>\n      <td>0.008106</td>\n    </tr>\n    <tr>\n      <th>28</th>\n      <td>0.390162</td>\n      <td>0.006037</td>\n      <td>0.020115</td>\n      <td>0.009503</td>\n      <td>0.003413</td>\n      <td>0.014456</td>\n    </tr>\n  </tbody>\n</table>\n</div>"
     },
     "execution_count": 15,
     "metadata": {},
     "output_type": "execute_result"
    }
   ],
   "source": [
    "from task1_7 import triangle_chebyshev\n",
    "\n",
    "triangle_chebyshev_U, table = triangle_chebyshev(U_init, std_output=False)\n",
    "table"
   ],
   "metadata": {
    "collapsed": false,
    "ExecuteTime": {
     "end_time": "2024-01-23T05:36:11.029593Z",
     "start_time": "2024-01-23T05:36:10.931668Z"
    }
   },
   "id": "dae38c33a2c3f2c0",
   "execution_count": 15
  },
  {
   "cell_type": "markdown",
   "source": [
    "Численное решение:"
   ],
   "metadata": {
    "collapsed": false
   },
   "id": "7b404e6a52653674"
  },
  {
   "cell_type": "code",
   "outputs": [
    {
     "data": {
      "text/plain": "array([[0.     , 0.     , 0.     , 0.     , 0.     , 0.     ],\n       [0.58779, 0.71656, 0.86907, 1.05974, 1.29828, 1.59777],\n       [0.95106, 1.15818, 1.40418, 1.71343, 2.10089, 2.58524],\n       [0.95106, 1.15733, 1.40295, 1.71282, 2.10124, 2.58524],\n       [0.58779, 0.7146 , 0.8662 , 1.05831, 1.29914, 1.59777],\n       [0.     , 0.     , 0.     , 0.     , 0.     , 0.     ]])"
     },
     "execution_count": 16,
     "metadata": {},
     "output_type": "execute_result"
    }
   ],
   "source": [
    "triangle_chebyshev_U.T"
   ],
   "metadata": {
    "collapsed": false,
    "ExecuteTime": {
     "end_time": "2024-01-23T05:36:11.049959Z",
     "start_time": "2024-01-23T05:36:10.976063Z"
    }
   },
   "id": "683dac4e37575151",
   "execution_count": 16
  },
  {
   "cell_type": "code",
   "outputs": [],
   "source": [],
   "metadata": {
    "collapsed": false,
    "ExecuteTime": {
     "end_time": "2024-01-23T05:36:11.050601Z",
     "start_time": "2024-01-23T05:36:10.980438Z"
    }
   },
   "id": "b4ee04e015939225",
   "execution_count": 16
  }
 ],
 "metadata": {
  "kernelspec": {
   "display_name": "Python 3 (ipykernel)",
   "language": "python",
   "name": "python3"
  },
  "language_info": {
   "codemirror_mode": {
    "name": "ipython",
    "version": 3
   },
   "file_extension": ".py",
   "mimetype": "text/x-python",
   "name": "python",
   "nbconvert_exporter": "python",
   "pygments_lexer": "ipython3",
   "version": "3.11.3"
  }
 },
 "nbformat": 4,
 "nbformat_minor": 5
}
