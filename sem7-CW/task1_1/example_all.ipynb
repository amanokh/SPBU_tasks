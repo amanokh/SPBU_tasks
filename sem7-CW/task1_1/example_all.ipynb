{
 "cells": [
  {
   "cell_type": "markdown",
   "source": [
    "## Общие параметры\n"
   ],
   "metadata": {
    "collapsed": false
   },
   "id": "795a92fc4a965834"
  },
  {
   "cell_type": "code",
   "outputs": [
    {
     "name": "stdout",
     "output_type": "stream",
     "text": [
      "Манохин Антон, группа 20.Б04-мм. Вариант 4.\n",
      "eps:  0.01\n",
      "N:  5\n",
      "M:  5\n",
      "Спектральный радиус:  0.8090169943749475\n",
      "Спектральный радиус ** 2:  0.6545084971874737\n",
      "\n",
      "sigma: 10.516681490527704\n",
      "delta: 99.61543687370605\n",
      "\n",
      "Мера аппроксимации ||F − AU^*||: 0.07578873395826324\n",
      "Норма невязки нулевого приближения ||F − AU^0||: 64.63099115206698\n"
     ]
    }
   ],
   "source": [
    "from commons import *\n",
    "\n",
    "print_common_info()"
   ],
   "metadata": {
    "collapsed": false,
    "ExecuteTime": {
     "end_time": "2024-01-23T05:29:27.778222Z",
     "start_time": "2024-01-23T05:29:27.721002Z"
    }
   },
   "id": "d06c3ca2e529592a",
   "execution_count": 50
  },
  {
   "cell_type": "markdown",
   "source": [
    "## Численное решение"
   ],
   "metadata": {
    "collapsed": false
   },
   "id": "cf24d5259cfad325"
  },
  {
   "cell_type": "code",
   "outputs": [
    {
     "data": {
      "text/plain": "array([[0.     , 0.58779, 0.95106, 0.95106, 0.58779, 0.     ],\n       [0.     , 0.71792, 1.16162, 1.16162, 0.71792, 0.     ],\n       [0.     , 0.87687, 1.41881, 1.41881, 0.87687, 0.     ],\n       [0.     , 1.07101, 1.73294, 1.73294, 1.07101, 0.     ],\n       [0.     , 1.30814, 2.11662, 2.11662, 1.30814, 0.     ],\n       [0.     , 1.59777, 2.58524, 2.58524, 1.59777, 0.     ]])"
     },
     "execution_count": 51,
     "metadata": {},
     "output_type": "execute_result"
    }
   ],
   "source": [
    "U_precise"
   ],
   "metadata": {
    "collapsed": false,
    "ExecuteTime": {
     "end_time": "2024-01-23T05:29:27.786483Z",
     "start_time": "2024-01-23T05:29:27.781969Z"
    }
   },
   "id": "2db1beaa2d7531b9",
   "execution_count": 51
  },
  {
   "cell_type": "markdown",
   "source": [
    "## Метод простых итераций"
   ],
   "metadata": {
    "collapsed": false
   },
   "id": "6f1970787e5efde0"
  },
  {
   "cell_type": "code",
   "outputs": [
    {
     "data": {
      "text/plain": "      ||F - AUk||    rel.d.  ||Uk − u*||  rel.error  ||Uk − Uk-1||  \\\n1       29.342481  0.454000     1.732938   0.818731       1.173699   \n2       14.928344  0.230978     1.222781   0.577706       0.532860   \n3       13.677833  0.211630     1.031761   0.487458       0.271099   \n4       10.022704  0.155076     0.813598   0.384386       0.248390   \n5        8.055430  0.124637     0.659106   0.311396       0.182012   \n...           ...       ...          ...        ...            ...   \n2112     0.187640  0.002903     0.011761   0.005557       0.004217   \n2113     0.151657  0.002347     0.008354   0.003947       0.003408   \n2114     0.122597  0.001897     0.005623   0.002657       0.002754   \n2115     0.099119  0.001534     0.003397   0.001605       0.002226   \n2116     0.080147  0.001240     0.001607   0.000759       0.001800   \n\n      apost.est.      ro_k  \n1       4.971870       ---  \n2       2.257230     0.454  \n3       1.148393  0.508762  \n4       1.052195  0.916232  \n5       0.771017   0.73277  \n...          ...       ...  \n2112    0.017863  0.807848  \n2113    0.014435  0.808061  \n2114    0.011667  0.808236  \n2115    0.009431  0.808379  \n2116    0.007625  0.808496  \n\n[2116 rows x 7 columns]",
      "text/html": "<div>\n<style scoped>\n    .dataframe tbody tr th:only-of-type {\n        vertical-align: middle;\n    }\n\n    .dataframe tbody tr th {\n        vertical-align: top;\n    }\n\n    .dataframe thead th {\n        text-align: right;\n    }\n</style>\n<table border=\"1\" class=\"dataframe\">\n  <thead>\n    <tr style=\"text-align: right;\">\n      <th></th>\n      <th>||F - AUk||</th>\n      <th>rel.d.</th>\n      <th>||Uk − u*||</th>\n      <th>rel.error</th>\n      <th>||Uk − Uk-1||</th>\n      <th>apost.est.</th>\n      <th>ro_k</th>\n    </tr>\n  </thead>\n  <tbody>\n    <tr>\n      <th>1</th>\n      <td>29.342481</td>\n      <td>0.454000</td>\n      <td>1.732938</td>\n      <td>0.818731</td>\n      <td>1.173699</td>\n      <td>4.971870</td>\n      <td>---</td>\n    </tr>\n    <tr>\n      <th>2</th>\n      <td>14.928344</td>\n      <td>0.230978</td>\n      <td>1.222781</td>\n      <td>0.577706</td>\n      <td>0.532860</td>\n      <td>2.257230</td>\n      <td>0.454</td>\n    </tr>\n    <tr>\n      <th>3</th>\n      <td>13.677833</td>\n      <td>0.211630</td>\n      <td>1.031761</td>\n      <td>0.487458</td>\n      <td>0.271099</td>\n      <td>1.148393</td>\n      <td>0.508762</td>\n    </tr>\n    <tr>\n      <th>4</th>\n      <td>10.022704</td>\n      <td>0.155076</td>\n      <td>0.813598</td>\n      <td>0.384386</td>\n      <td>0.248390</td>\n      <td>1.052195</td>\n      <td>0.916232</td>\n    </tr>\n    <tr>\n      <th>5</th>\n      <td>8.055430</td>\n      <td>0.124637</td>\n      <td>0.659106</td>\n      <td>0.311396</td>\n      <td>0.182012</td>\n      <td>0.771017</td>\n      <td>0.73277</td>\n    </tr>\n    <tr>\n      <th>...</th>\n      <td>...</td>\n      <td>...</td>\n      <td>...</td>\n      <td>...</td>\n      <td>...</td>\n      <td>...</td>\n      <td>...</td>\n    </tr>\n    <tr>\n      <th>2112</th>\n      <td>0.187640</td>\n      <td>0.002903</td>\n      <td>0.011761</td>\n      <td>0.005557</td>\n      <td>0.004217</td>\n      <td>0.017863</td>\n      <td>0.807848</td>\n    </tr>\n    <tr>\n      <th>2113</th>\n      <td>0.151657</td>\n      <td>0.002347</td>\n      <td>0.008354</td>\n      <td>0.003947</td>\n      <td>0.003408</td>\n      <td>0.014435</td>\n      <td>0.808061</td>\n    </tr>\n    <tr>\n      <th>2114</th>\n      <td>0.122597</td>\n      <td>0.001897</td>\n      <td>0.005623</td>\n      <td>0.002657</td>\n      <td>0.002754</td>\n      <td>0.011667</td>\n      <td>0.808236</td>\n    </tr>\n    <tr>\n      <th>2115</th>\n      <td>0.099119</td>\n      <td>0.001534</td>\n      <td>0.003397</td>\n      <td>0.001605</td>\n      <td>0.002226</td>\n      <td>0.009431</td>\n      <td>0.808379</td>\n    </tr>\n    <tr>\n      <th>2116</th>\n      <td>0.080147</td>\n      <td>0.001240</td>\n      <td>0.001607</td>\n      <td>0.000759</td>\n      <td>0.001800</td>\n      <td>0.007625</td>\n      <td>0.808496</td>\n    </tr>\n  </tbody>\n</table>\n<p>2116 rows × 7 columns</p>\n</div>"
     },
     "execution_count": 52,
     "metadata": {},
     "output_type": "execute_result"
    }
   ],
   "source": [
    "from task1_1 import simple_iterations\n",
    "\n",
    "simple_iter_U, table = simple_iterations(U_init, std_output=False)\n",
    "table"
   ],
   "metadata": {
    "collapsed": false,
    "ExecuteTime": {
     "end_time": "2024-01-23T05:29:27.864671Z",
     "start_time": "2024-01-23T05:29:27.785685Z"
    }
   },
   "id": "eb408d5f4ce37b54",
   "execution_count": 52
  },
  {
   "cell_type": "markdown",
   "source": [
    "Численное решение:"
   ],
   "metadata": {
    "collapsed": false
   },
   "id": "aea553e0fd4f465"
  },
  {
   "cell_type": "code",
   "outputs": [
    {
     "data": {
      "text/plain": "array([[0.     , 0.     , 0.     , 0.     , 0.     , 0.     ],\n       [0.58779, 0.71734, 0.87588, 1.0703 , 1.30811, 1.59777],\n       [0.95106, 1.16068, 1.4172 , 1.73177, 2.11656, 2.58524],\n       [0.95106, 1.16068, 1.4172 , 1.73177, 2.11656, 2.58524],\n       [0.58779, 0.71734, 0.87588, 1.0703 , 1.30811, 1.59777],\n       [0.     , 0.     , 0.     , 0.     , 0.     , 0.     ]])"
     },
     "execution_count": 53,
     "metadata": {},
     "output_type": "execute_result"
    }
   ],
   "source": [
    "simple_iter_U.T"
   ],
   "metadata": {
    "collapsed": false,
    "ExecuteTime": {
     "end_time": "2024-01-23T05:29:27.865315Z",
     "start_time": "2024-01-23T05:29:27.835395Z"
    }
   },
   "id": "8473f6ca253a23b7",
   "execution_count": 53
  },
  {
   "cell_type": "markdown",
   "source": [
    "## Метод простой итерации с оптимальным параметром"
   ],
   "metadata": {
    "collapsed": false
   },
   "id": "36529f631eeb04ac"
  },
  {
   "cell_type": "code",
   "outputs": [
    {
     "name": "stdout",
     "output_type": "stream",
     "text": [
      "tau:  0.0181600066329925\n"
     ]
    },
    {
     "data": {
      "text/plain": "      ||F - AUk||    rel.d.  ||Uk − u*||  rel.error  ||Uk − Uk-1||  \\\n1       29.342481  0.454000     1.732938   0.818731       1.173699   \n2       14.928344  0.230978     1.222781   0.577706       0.532860   \n3       13.677833  0.211630     1.031761   0.487458       0.271099   \n4       10.022704  0.155076     0.813598   0.384386       0.248390   \n5        8.055430  0.124637     0.659106   0.311396       0.182012   \n...           ...       ...          ...        ...            ...   \n2138     0.187640  0.002903     0.011761   0.005557       0.004217   \n2139     0.151657  0.002347     0.008354   0.003947       0.003408   \n2140     0.122597  0.001897     0.005623   0.002657       0.002754   \n2141     0.099119  0.001534     0.003397   0.001605       0.002226   \n2142     0.080147  0.001240     0.001607   0.000759       0.001800   \n\n      apost.est.      ro_k  \n1       4.971870       ---  \n2       2.257230     0.454  \n3       1.148393  0.508762  \n4       1.052195  0.916232  \n5       0.771017   0.73277  \n...          ...       ...  \n2138    0.017863  0.807848  \n2139    0.014435  0.808061  \n2140    0.011667  0.808236  \n2141    0.009431  0.808379  \n2142    0.007625  0.808496  \n\n[2142 rows x 7 columns]",
      "text/html": "<div>\n<style scoped>\n    .dataframe tbody tr th:only-of-type {\n        vertical-align: middle;\n    }\n\n    .dataframe tbody tr th {\n        vertical-align: top;\n    }\n\n    .dataframe thead th {\n        text-align: right;\n    }\n</style>\n<table border=\"1\" class=\"dataframe\">\n  <thead>\n    <tr style=\"text-align: right;\">\n      <th></th>\n      <th>||F - AUk||</th>\n      <th>rel.d.</th>\n      <th>||Uk − u*||</th>\n      <th>rel.error</th>\n      <th>||Uk − Uk-1||</th>\n      <th>apost.est.</th>\n      <th>ro_k</th>\n    </tr>\n  </thead>\n  <tbody>\n    <tr>\n      <th>1</th>\n      <td>29.342481</td>\n      <td>0.454000</td>\n      <td>1.732938</td>\n      <td>0.818731</td>\n      <td>1.173699</td>\n      <td>4.971870</td>\n      <td>---</td>\n    </tr>\n    <tr>\n      <th>2</th>\n      <td>14.928344</td>\n      <td>0.230978</td>\n      <td>1.222781</td>\n      <td>0.577706</td>\n      <td>0.532860</td>\n      <td>2.257230</td>\n      <td>0.454</td>\n    </tr>\n    <tr>\n      <th>3</th>\n      <td>13.677833</td>\n      <td>0.211630</td>\n      <td>1.031761</td>\n      <td>0.487458</td>\n      <td>0.271099</td>\n      <td>1.148393</td>\n      <td>0.508762</td>\n    </tr>\n    <tr>\n      <th>4</th>\n      <td>10.022704</td>\n      <td>0.155076</td>\n      <td>0.813598</td>\n      <td>0.384386</td>\n      <td>0.248390</td>\n      <td>1.052195</td>\n      <td>0.916232</td>\n    </tr>\n    <tr>\n      <th>5</th>\n      <td>8.055430</td>\n      <td>0.124637</td>\n      <td>0.659106</td>\n      <td>0.311396</td>\n      <td>0.182012</td>\n      <td>0.771017</td>\n      <td>0.73277</td>\n    </tr>\n    <tr>\n      <th>...</th>\n      <td>...</td>\n      <td>...</td>\n      <td>...</td>\n      <td>...</td>\n      <td>...</td>\n      <td>...</td>\n      <td>...</td>\n    </tr>\n    <tr>\n      <th>2138</th>\n      <td>0.187640</td>\n      <td>0.002903</td>\n      <td>0.011761</td>\n      <td>0.005557</td>\n      <td>0.004217</td>\n      <td>0.017863</td>\n      <td>0.807848</td>\n    </tr>\n    <tr>\n      <th>2139</th>\n      <td>0.151657</td>\n      <td>0.002347</td>\n      <td>0.008354</td>\n      <td>0.003947</td>\n      <td>0.003408</td>\n      <td>0.014435</td>\n      <td>0.808061</td>\n    </tr>\n    <tr>\n      <th>2140</th>\n      <td>0.122597</td>\n      <td>0.001897</td>\n      <td>0.005623</td>\n      <td>0.002657</td>\n      <td>0.002754</td>\n      <td>0.011667</td>\n      <td>0.808236</td>\n    </tr>\n    <tr>\n      <th>2141</th>\n      <td>0.099119</td>\n      <td>0.001534</td>\n      <td>0.003397</td>\n      <td>0.001605</td>\n      <td>0.002226</td>\n      <td>0.009431</td>\n      <td>0.808379</td>\n    </tr>\n    <tr>\n      <th>2142</th>\n      <td>0.080147</td>\n      <td>0.001240</td>\n      <td>0.001607</td>\n      <td>0.000759</td>\n      <td>0.001800</td>\n      <td>0.007625</td>\n      <td>0.808496</td>\n    </tr>\n  </tbody>\n</table>\n<p>2142 rows × 7 columns</p>\n</div>"
     },
     "execution_count": 54,
     "metadata": {},
     "output_type": "execute_result"
    }
   ],
   "source": [
    "from task1_2 import simple_iterations_optimal\n",
    "\n",
    "tau = 2 / (sigma(h_x, h_y) + delta(h_x, h_y))\n",
    "print(\"tau: \", tau)\n",
    "\n",
    "simple_iter_optimal_U, table = simple_iterations_optimal(U_init, tau, std_output=False)\n",
    "table"
   ],
   "metadata": {
    "collapsed": false,
    "ExecuteTime": {
     "end_time": "2024-01-23T05:29:27.868064Z",
     "start_time": "2024-01-23T05:29:27.835703Z"
    }
   },
   "id": "7276252bd0c7ed0c",
   "execution_count": 54
  },
  {
   "cell_type": "markdown",
   "source": [
    "Численное решение:"
   ],
   "metadata": {
    "collapsed": false
   },
   "id": "b4bf6f9adea116e"
  },
  {
   "cell_type": "code",
   "outputs": [
    {
     "data": {
      "text/plain": "array([[0.     , 0.     , 0.     , 0.     , 0.     , 0.     ],\n       [0.58779, 0.71734, 0.87588, 1.0703 , 1.30811, 1.59777],\n       [0.95106, 1.16068, 1.4172 , 1.73177, 2.11656, 2.58524],\n       [0.95106, 1.16068, 1.4172 , 1.73177, 2.11656, 2.58524],\n       [0.58779, 0.71734, 0.87588, 1.0703 , 1.30811, 1.59777],\n       [0.     , 0.     , 0.     , 0.     , 0.     , 0.     ]])"
     },
     "execution_count": 55,
     "metadata": {},
     "output_type": "execute_result"
    }
   ],
   "source": [
    "simple_iter_optimal_U.T"
   ],
   "metadata": {
    "collapsed": false,
    "ExecuteTime": {
     "end_time": "2024-01-23T05:29:27.868601Z",
     "start_time": "2024-01-23T05:29:27.849345Z"
    }
   },
   "id": "8ca48b6868f8661c",
   "execution_count": 55
  },
  {
   "cell_type": "markdown",
   "source": [
    "## Метод Зейделя"
   ],
   "metadata": {
    "collapsed": false
   },
   "id": "eb3e049963c7cfc0"
  },
  {
   "cell_type": "code",
   "outputs": [
    {
     "data": {
      "text/plain": "      ||F - AUk||    rel.d.  ||Uk − u*||  rel.error  ||Uk − Uk-1||  \\\n1       29.342481  0.454000     1.732938   0.818731       1.173699   \n2       14.928344  0.230978     1.222781   0.577706       0.532860   \n3       13.677833  0.211630     1.031761   0.487458       0.271099   \n4       10.022704  0.155076     0.813598   0.384386       0.248390   \n5        8.055430  0.124637     0.659106   0.311396       0.182012   \n...           ...       ...          ...        ...            ...   \n2150     1.378776  0.021333     0.093682   0.044260       0.051430   \n2151     0.910272  0.014084     0.059694   0.028202       0.033988   \n2152     0.600309  0.009288     0.037259   0.017603       0.022435   \n2153     0.395526  0.006120     0.022465   0.010614       0.014794   \n2154     0.260390  0.004029     0.012719   0.006009       0.009746   \n\n      apost.est.      ro_k  \n1       4.971870       ---  \n2       2.257230     0.454  \n3       1.148393  0.508762  \n4       1.052195  0.916232  \n5       0.771017   0.73277  \n...          ...       ...  \n2150    0.217862   0.66186  \n2151    0.143976  0.660858  \n2152    0.095035  0.660077  \n2153    0.062667  0.659404  \n2154    0.041286  0.658813  \n\n[2154 rows x 7 columns]",
      "text/html": "<div>\n<style scoped>\n    .dataframe tbody tr th:only-of-type {\n        vertical-align: middle;\n    }\n\n    .dataframe tbody tr th {\n        vertical-align: top;\n    }\n\n    .dataframe thead th {\n        text-align: right;\n    }\n</style>\n<table border=\"1\" class=\"dataframe\">\n  <thead>\n    <tr style=\"text-align: right;\">\n      <th></th>\n      <th>||F - AUk||</th>\n      <th>rel.d.</th>\n      <th>||Uk − u*||</th>\n      <th>rel.error</th>\n      <th>||Uk − Uk-1||</th>\n      <th>apost.est.</th>\n      <th>ro_k</th>\n    </tr>\n  </thead>\n  <tbody>\n    <tr>\n      <th>1</th>\n      <td>29.342481</td>\n      <td>0.454000</td>\n      <td>1.732938</td>\n      <td>0.818731</td>\n      <td>1.173699</td>\n      <td>4.971870</td>\n      <td>---</td>\n    </tr>\n    <tr>\n      <th>2</th>\n      <td>14.928344</td>\n      <td>0.230978</td>\n      <td>1.222781</td>\n      <td>0.577706</td>\n      <td>0.532860</td>\n      <td>2.257230</td>\n      <td>0.454</td>\n    </tr>\n    <tr>\n      <th>3</th>\n      <td>13.677833</td>\n      <td>0.211630</td>\n      <td>1.031761</td>\n      <td>0.487458</td>\n      <td>0.271099</td>\n      <td>1.148393</td>\n      <td>0.508762</td>\n    </tr>\n    <tr>\n      <th>4</th>\n      <td>10.022704</td>\n      <td>0.155076</td>\n      <td>0.813598</td>\n      <td>0.384386</td>\n      <td>0.248390</td>\n      <td>1.052195</td>\n      <td>0.916232</td>\n    </tr>\n    <tr>\n      <th>5</th>\n      <td>8.055430</td>\n      <td>0.124637</td>\n      <td>0.659106</td>\n      <td>0.311396</td>\n      <td>0.182012</td>\n      <td>0.771017</td>\n      <td>0.73277</td>\n    </tr>\n    <tr>\n      <th>...</th>\n      <td>...</td>\n      <td>...</td>\n      <td>...</td>\n      <td>...</td>\n      <td>...</td>\n      <td>...</td>\n      <td>...</td>\n    </tr>\n    <tr>\n      <th>2150</th>\n      <td>1.378776</td>\n      <td>0.021333</td>\n      <td>0.093682</td>\n      <td>0.044260</td>\n      <td>0.051430</td>\n      <td>0.217862</td>\n      <td>0.66186</td>\n    </tr>\n    <tr>\n      <th>2151</th>\n      <td>0.910272</td>\n      <td>0.014084</td>\n      <td>0.059694</td>\n      <td>0.028202</td>\n      <td>0.033988</td>\n      <td>0.143976</td>\n      <td>0.660858</td>\n    </tr>\n    <tr>\n      <th>2152</th>\n      <td>0.600309</td>\n      <td>0.009288</td>\n      <td>0.037259</td>\n      <td>0.017603</td>\n      <td>0.022435</td>\n      <td>0.095035</td>\n      <td>0.660077</td>\n    </tr>\n    <tr>\n      <th>2153</th>\n      <td>0.395526</td>\n      <td>0.006120</td>\n      <td>0.022465</td>\n      <td>0.010614</td>\n      <td>0.014794</td>\n      <td>0.062667</td>\n      <td>0.659404</td>\n    </tr>\n    <tr>\n      <th>2154</th>\n      <td>0.260390</td>\n      <td>0.004029</td>\n      <td>0.012719</td>\n      <td>0.006009</td>\n      <td>0.009746</td>\n      <td>0.041286</td>\n      <td>0.658813</td>\n    </tr>\n  </tbody>\n</table>\n<p>2154 rows × 7 columns</p>\n</div>"
     },
     "execution_count": 56,
     "metadata": {},
     "output_type": "execute_result"
    }
   ],
   "source": [
    "from task1_3 import zeidel\n",
    "\n",
    "zeidel_U, table = zeidel(U_init, std_output=False)\n",
    "table"
   ],
   "metadata": {
    "collapsed": false,
    "ExecuteTime": {
     "end_time": "2024-01-23T05:29:27.908712Z",
     "start_time": "2024-01-23T05:29:27.871428Z"
    }
   },
   "id": "7ac466363095667f",
   "execution_count": 56
  },
  {
   "cell_type": "markdown",
   "source": [
    "Численное решение:"
   ],
   "metadata": {
    "collapsed": false
   },
   "id": "8f5fd3de767fe5ba"
  },
  {
   "cell_type": "code",
   "outputs": [
    {
     "data": {
      "text/plain": "array([[0.     , 0.     , 0.     , 0.     , 0.     , 0.     ],\n       [0.58779, 0.71002, 0.86712, 1.06405, 1.30551, 1.59777],\n       [0.95106, 1.15112, 1.40609, 1.7242 , 2.11366, 2.58524],\n       [0.95106, 1.153  , 1.40862, 1.7263 , 2.11473, 2.58524],\n       [0.58779, 0.71372, 0.87208, 1.06815, 1.3076 , 1.59777],\n       [0.     , 0.     , 0.     , 0.     , 0.     , 0.     ]])"
     },
     "execution_count": 57,
     "metadata": {},
     "output_type": "execute_result"
    }
   ],
   "source": [
    "zeidel_U.T"
   ],
   "metadata": {
    "collapsed": false,
    "ExecuteTime": {
     "end_time": "2024-01-23T05:29:27.929784Z",
     "start_time": "2024-01-23T05:29:27.884303Z"
    }
   },
   "id": "137d8e5a19411ce2",
   "execution_count": 57
  },
  {
   "cell_type": "markdown",
   "source": [
    "## Метод верхней релаксации"
   ],
   "metadata": {
    "collapsed": false
   },
   "id": "cf9e0cab50389a45"
  },
  {
   "cell_type": "code",
   "outputs": [
    {
     "data": {
      "text/plain": "      ||F - AUk||    rel.d.  ||Uk − u*||  rel.error  ||Uk − Uk-1||  \\\n1       29.342481  0.454000     1.732938   0.818731       1.173699   \n2       14.928344  0.230978     1.222781   0.577706       0.532860   \n3       13.677833  0.211630     1.031761   0.487458       0.271099   \n4       10.022704  0.155076     0.813598   0.384386       0.248390   \n5        8.055430  0.124637     0.659106   0.311396       0.182012   \n...           ...       ...          ...        ...            ...   \n2156    24.905832  0.385354     0.989177   0.467339       1.033034   \n2157    15.261894  0.236139     0.477280   0.225492       0.625544   \n2158     3.440887  0.053239     0.144704   0.068366       0.368808   \n2159     1.518442  0.023494     0.054751   0.025867       0.091685   \n2160     0.622768  0.009636     0.018374   0.008681       0.038608   \n\n      apost.est.      ro_k  \n1       4.971870       ---  \n2       2.257230     0.454  \n3       1.148393  0.508762  \n4       1.052195  0.916232  \n5       0.771017   0.73277  \n...          ...       ...  \n2156    4.376004  0.609625  \n2157    2.649846   0.60554  \n2158    1.562296   0.58958  \n2159    0.388384  0.248598  \n2160    0.163544   0.42109  \n\n[2160 rows x 7 columns]",
      "text/html": "<div>\n<style scoped>\n    .dataframe tbody tr th:only-of-type {\n        vertical-align: middle;\n    }\n\n    .dataframe tbody tr th {\n        vertical-align: top;\n    }\n\n    .dataframe thead th {\n        text-align: right;\n    }\n</style>\n<table border=\"1\" class=\"dataframe\">\n  <thead>\n    <tr style=\"text-align: right;\">\n      <th></th>\n      <th>||F - AUk||</th>\n      <th>rel.d.</th>\n      <th>||Uk − u*||</th>\n      <th>rel.error</th>\n      <th>||Uk − Uk-1||</th>\n      <th>apost.est.</th>\n      <th>ro_k</th>\n    </tr>\n  </thead>\n  <tbody>\n    <tr>\n      <th>1</th>\n      <td>29.342481</td>\n      <td>0.454000</td>\n      <td>1.732938</td>\n      <td>0.818731</td>\n      <td>1.173699</td>\n      <td>4.971870</td>\n      <td>---</td>\n    </tr>\n    <tr>\n      <th>2</th>\n      <td>14.928344</td>\n      <td>0.230978</td>\n      <td>1.222781</td>\n      <td>0.577706</td>\n      <td>0.532860</td>\n      <td>2.257230</td>\n      <td>0.454</td>\n    </tr>\n    <tr>\n      <th>3</th>\n      <td>13.677833</td>\n      <td>0.211630</td>\n      <td>1.031761</td>\n      <td>0.487458</td>\n      <td>0.271099</td>\n      <td>1.148393</td>\n      <td>0.508762</td>\n    </tr>\n    <tr>\n      <th>4</th>\n      <td>10.022704</td>\n      <td>0.155076</td>\n      <td>0.813598</td>\n      <td>0.384386</td>\n      <td>0.248390</td>\n      <td>1.052195</td>\n      <td>0.916232</td>\n    </tr>\n    <tr>\n      <th>5</th>\n      <td>8.055430</td>\n      <td>0.124637</td>\n      <td>0.659106</td>\n      <td>0.311396</td>\n      <td>0.182012</td>\n      <td>0.771017</td>\n      <td>0.73277</td>\n    </tr>\n    <tr>\n      <th>...</th>\n      <td>...</td>\n      <td>...</td>\n      <td>...</td>\n      <td>...</td>\n      <td>...</td>\n      <td>...</td>\n      <td>...</td>\n    </tr>\n    <tr>\n      <th>2156</th>\n      <td>24.905832</td>\n      <td>0.385354</td>\n      <td>0.989177</td>\n      <td>0.467339</td>\n      <td>1.033034</td>\n      <td>4.376004</td>\n      <td>0.609625</td>\n    </tr>\n    <tr>\n      <th>2157</th>\n      <td>15.261894</td>\n      <td>0.236139</td>\n      <td>0.477280</td>\n      <td>0.225492</td>\n      <td>0.625544</td>\n      <td>2.649846</td>\n      <td>0.60554</td>\n    </tr>\n    <tr>\n      <th>2158</th>\n      <td>3.440887</td>\n      <td>0.053239</td>\n      <td>0.144704</td>\n      <td>0.068366</td>\n      <td>0.368808</td>\n      <td>1.562296</td>\n      <td>0.58958</td>\n    </tr>\n    <tr>\n      <th>2159</th>\n      <td>1.518442</td>\n      <td>0.023494</td>\n      <td>0.054751</td>\n      <td>0.025867</td>\n      <td>0.091685</td>\n      <td>0.388384</td>\n      <td>0.248598</td>\n    </tr>\n    <tr>\n      <th>2160</th>\n      <td>0.622768</td>\n      <td>0.009636</td>\n      <td>0.018374</td>\n      <td>0.008681</td>\n      <td>0.038608</td>\n      <td>0.163544</td>\n      <td>0.42109</td>\n    </tr>\n  </tbody>\n</table>\n<p>2160 rows × 7 columns</p>\n</div>"
     },
     "execution_count": 58,
     "metadata": {},
     "output_type": "execute_result"
    }
   ],
   "source": [
    "from task1_4 import up_relax\n",
    "\n",
    "up_relax_U, table = up_relax(U_init, std_output=False)\n",
    "table"
   ],
   "metadata": {
    "collapsed": false,
    "ExecuteTime": {
     "end_time": "2024-01-23T05:29:28.003154Z",
     "start_time": "2024-01-23T05:29:27.913017Z"
    }
   },
   "id": "b6be35b0039af917",
   "execution_count": 58
  },
  {
   "cell_type": "markdown",
   "source": [
    "Численное решение:"
   ],
   "metadata": {
    "collapsed": false
   },
   "id": "e6d294b92cb24ff6"
  },
  {
   "cell_type": "code",
   "outputs": [
    {
     "data": {
      "text/plain": "array([[0.     , 0.     , 0.     , 0.     , 0.     , 0.     ],\n       [0.58779, 0.70023, 0.8607 , 1.06306, 1.30658, 1.59777],\n       [0.95106, 1.14325, 1.4044 , 1.72763, 2.11713, 2.58524],\n       [0.95106, 1.15156, 1.41372, 1.73327, 2.11917, 2.58524],\n       [0.58779, 0.71589, 0.87795, 1.07302, 1.31044, 1.59777],\n       [0.     , 0.     , 0.     , 0.     , 0.     , 0.     ]])"
     },
     "execution_count": 59,
     "metadata": {},
     "output_type": "execute_result"
    }
   ],
   "source": [
    "up_relax_U.T"
   ],
   "metadata": {
    "collapsed": false,
    "ExecuteTime": {
     "end_time": "2024-01-23T05:29:28.068199Z",
     "start_time": "2024-01-23T05:29:27.968940Z"
    }
   },
   "id": "e6ece31be7a276a3",
   "execution_count": 59
  },
  {
   "cell_type": "markdown",
   "source": [
    "## Итерационный метод с чебышевским набором параметров"
   ],
   "metadata": {
    "collapsed": false
   },
   "id": "a9ebbbda25f9c71b"
  },
  {
   "cell_type": "code",
   "outputs": [
    {
     "data": {
      "text/plain": "      ||F - AUk||    rel.d.  ||Uk − u*||  rel.error  ||Uk − Uk-1||  \\\n1       29.342481  0.454000     1.732938   0.818731       1.173699   \n2       14.928344  0.230978     1.222781   0.577706       0.532860   \n3       13.677833  0.211630     1.031761   0.487458       0.271099   \n4       10.022704  0.155076     0.813598   0.384386       0.248390   \n5        8.055430  0.124637     0.659106   0.311396       0.182012   \n...           ...       ...          ...        ...            ...   \n3083     0.087175  0.001349     0.002291   0.001083       0.000022   \n3084     0.086737  0.001342     0.002250   0.001063       0.000042   \n3085     0.086565  0.001339     0.002233   0.001055       0.000016   \n3086     0.085376  0.001321     0.002120   0.001002       0.000113   \n3087     0.085150  0.001317     0.002099   0.000992       0.000021   \n\n      apost.est.      ro_k  \n1       4.971870       ---  \n2       2.257230     0.454  \n3       1.148393  0.508762  \n4       1.052195  0.916232  \n5       0.771017   0.73277  \n...          ...       ...  \n3083    0.000093       ---  \n3084    0.000176       ---  \n3085    0.000069       ---  \n3086    0.000479       ---  \n3087    0.000091       ---  \n\n[3087 rows x 7 columns]",
      "text/html": "<div>\n<style scoped>\n    .dataframe tbody tr th:only-of-type {\n        vertical-align: middle;\n    }\n\n    .dataframe tbody tr th {\n        vertical-align: top;\n    }\n\n    .dataframe thead th {\n        text-align: right;\n    }\n</style>\n<table border=\"1\" class=\"dataframe\">\n  <thead>\n    <tr style=\"text-align: right;\">\n      <th></th>\n      <th>||F - AUk||</th>\n      <th>rel.d.</th>\n      <th>||Uk − u*||</th>\n      <th>rel.error</th>\n      <th>||Uk − Uk-1||</th>\n      <th>apost.est.</th>\n      <th>ro_k</th>\n    </tr>\n  </thead>\n  <tbody>\n    <tr>\n      <th>1</th>\n      <td>29.342481</td>\n      <td>0.454000</td>\n      <td>1.732938</td>\n      <td>0.818731</td>\n      <td>1.173699</td>\n      <td>4.971870</td>\n      <td>---</td>\n    </tr>\n    <tr>\n      <th>2</th>\n      <td>14.928344</td>\n      <td>0.230978</td>\n      <td>1.222781</td>\n      <td>0.577706</td>\n      <td>0.532860</td>\n      <td>2.257230</td>\n      <td>0.454</td>\n    </tr>\n    <tr>\n      <th>3</th>\n      <td>13.677833</td>\n      <td>0.211630</td>\n      <td>1.031761</td>\n      <td>0.487458</td>\n      <td>0.271099</td>\n      <td>1.148393</td>\n      <td>0.508762</td>\n    </tr>\n    <tr>\n      <th>4</th>\n      <td>10.022704</td>\n      <td>0.155076</td>\n      <td>0.813598</td>\n      <td>0.384386</td>\n      <td>0.248390</td>\n      <td>1.052195</td>\n      <td>0.916232</td>\n    </tr>\n    <tr>\n      <th>5</th>\n      <td>8.055430</td>\n      <td>0.124637</td>\n      <td>0.659106</td>\n      <td>0.311396</td>\n      <td>0.182012</td>\n      <td>0.771017</td>\n      <td>0.73277</td>\n    </tr>\n    <tr>\n      <th>...</th>\n      <td>...</td>\n      <td>...</td>\n      <td>...</td>\n      <td>...</td>\n      <td>...</td>\n      <td>...</td>\n      <td>...</td>\n    </tr>\n    <tr>\n      <th>3083</th>\n      <td>0.087175</td>\n      <td>0.001349</td>\n      <td>0.002291</td>\n      <td>0.001083</td>\n      <td>0.000022</td>\n      <td>0.000093</td>\n      <td>---</td>\n    </tr>\n    <tr>\n      <th>3084</th>\n      <td>0.086737</td>\n      <td>0.001342</td>\n      <td>0.002250</td>\n      <td>0.001063</td>\n      <td>0.000042</td>\n      <td>0.000176</td>\n      <td>---</td>\n    </tr>\n    <tr>\n      <th>3085</th>\n      <td>0.086565</td>\n      <td>0.001339</td>\n      <td>0.002233</td>\n      <td>0.001055</td>\n      <td>0.000016</td>\n      <td>0.000069</td>\n      <td>---</td>\n    </tr>\n    <tr>\n      <th>3086</th>\n      <td>0.085376</td>\n      <td>0.001321</td>\n      <td>0.002120</td>\n      <td>0.001002</td>\n      <td>0.000113</td>\n      <td>0.000479</td>\n      <td>---</td>\n    </tr>\n    <tr>\n      <th>3087</th>\n      <td>0.085150</td>\n      <td>0.001317</td>\n      <td>0.002099</td>\n      <td>0.000992</td>\n      <td>0.000021</td>\n      <td>0.000091</td>\n      <td>---</td>\n    </tr>\n  </tbody>\n</table>\n<p>3087 rows × 7 columns</p>\n</div>"
     },
     "execution_count": 60,
     "metadata": {},
     "output_type": "execute_result"
    }
   ],
   "source": [
    "from task1_5 import chebyshev\n",
    "\n",
    "chebyshev_U, table = chebyshev(U_init, std_output=False)\n",
    "table"
   ],
   "metadata": {
    "collapsed": false,
    "ExecuteTime": {
     "end_time": "2024-01-23T05:29:28.488722Z",
     "start_time": "2024-01-23T05:29:28.056842Z"
    }
   },
   "id": "9101f84145f28c3e",
   "execution_count": 60
  },
  {
   "cell_type": "markdown",
   "source": [
    "Численное решение:"
   ],
   "metadata": {
    "collapsed": false
   },
   "id": "daa260f35d3422e0"
  },
  {
   "cell_type": "code",
   "outputs": [
    {
     "data": {
      "text/plain": "array([[0.     , 0.     , 0.     , 0.     , 0.     , 0.     ],\n       [0.58779, 0.71715, 0.87558, 1.06999, 1.30792, 1.59777],\n       [0.95106, 1.16038, 1.41671, 1.73128, 2.11626, 2.58524],\n       [0.95106, 1.16038, 1.41671, 1.73128, 2.11626, 2.58524],\n       [0.58779, 0.71715, 0.87558, 1.06999, 1.30792, 1.59777],\n       [0.     , 0.     , 0.     , 0.     , 0.     , 0.     ]])"
     },
     "execution_count": 61,
     "metadata": {},
     "output_type": "execute_result"
    }
   ],
   "source": [
    "chebyshev_U.T"
   ],
   "metadata": {
    "collapsed": false,
    "ExecuteTime": {
     "end_time": "2024-01-23T05:29:28.492137Z",
     "start_time": "2024-01-23T05:29:28.489872Z"
    }
   },
   "id": "f6e9345d23a28d4e",
   "execution_count": 61
  },
  {
   "cell_type": "markdown",
   "source": [
    "## Попеременно-треугольный итерационный метод"
   ],
   "metadata": {
    "collapsed": false
   },
   "id": "cd52f117bb752d78"
  },
  {
   "cell_type": "code",
   "outputs": [
    {
     "data": {
      "text/plain": "      ||F - AUk||    rel.d.  ||Uk − u*||  rel.error  ||Uk − Uk-1||  \\\n1       29.342481  0.454000     1.732938   0.818731       1.173699   \n2       14.928344  0.230978     1.222781   0.577706       0.532860   \n3       13.677833  0.211630     1.031761   0.487458       0.271099   \n4       10.022704  0.155076     0.813598   0.384386       0.248390   \n5        8.055430  0.124637     0.659106   0.311396       0.182012   \n...           ...       ...          ...        ...            ...   \n3087     0.085150  0.001317     0.002099   0.000992       0.000021   \n3088    13.050158  0.201918     0.480184   0.226864       1.746515   \n3089     2.587919  0.040041     0.150943   0.071313       0.329241   \n3090     1.443013  0.022327     0.029652   0.014009       0.139329   \n3091     0.334746  0.005179     0.009008   0.004256       0.030082   \n\n      apost.est.      ro_k  \n1       4.971870       ---  \n2       2.257230     0.454  \n3       1.148393  0.508762  \n4       1.052195  0.916232  \n5       0.771017   0.73277  \n...          ...       ...  \n3087    0.000091       ---  \n3088    7.398355       ---  \n3089    1.394686       ---  \n3090    0.590209       ---  \n3091    0.127431       ---  \n\n[3091 rows x 7 columns]",
      "text/html": "<div>\n<style scoped>\n    .dataframe tbody tr th:only-of-type {\n        vertical-align: middle;\n    }\n\n    .dataframe tbody tr th {\n        vertical-align: top;\n    }\n\n    .dataframe thead th {\n        text-align: right;\n    }\n</style>\n<table border=\"1\" class=\"dataframe\">\n  <thead>\n    <tr style=\"text-align: right;\">\n      <th></th>\n      <th>||F - AUk||</th>\n      <th>rel.d.</th>\n      <th>||Uk − u*||</th>\n      <th>rel.error</th>\n      <th>||Uk − Uk-1||</th>\n      <th>apost.est.</th>\n      <th>ro_k</th>\n    </tr>\n  </thead>\n  <tbody>\n    <tr>\n      <th>1</th>\n      <td>29.342481</td>\n      <td>0.454000</td>\n      <td>1.732938</td>\n      <td>0.818731</td>\n      <td>1.173699</td>\n      <td>4.971870</td>\n      <td>---</td>\n    </tr>\n    <tr>\n      <th>2</th>\n      <td>14.928344</td>\n      <td>0.230978</td>\n      <td>1.222781</td>\n      <td>0.577706</td>\n      <td>0.532860</td>\n      <td>2.257230</td>\n      <td>0.454</td>\n    </tr>\n    <tr>\n      <th>3</th>\n      <td>13.677833</td>\n      <td>0.211630</td>\n      <td>1.031761</td>\n      <td>0.487458</td>\n      <td>0.271099</td>\n      <td>1.148393</td>\n      <td>0.508762</td>\n    </tr>\n    <tr>\n      <th>4</th>\n      <td>10.022704</td>\n      <td>0.155076</td>\n      <td>0.813598</td>\n      <td>0.384386</td>\n      <td>0.248390</td>\n      <td>1.052195</td>\n      <td>0.916232</td>\n    </tr>\n    <tr>\n      <th>5</th>\n      <td>8.055430</td>\n      <td>0.124637</td>\n      <td>0.659106</td>\n      <td>0.311396</td>\n      <td>0.182012</td>\n      <td>0.771017</td>\n      <td>0.73277</td>\n    </tr>\n    <tr>\n      <th>...</th>\n      <td>...</td>\n      <td>...</td>\n      <td>...</td>\n      <td>...</td>\n      <td>...</td>\n      <td>...</td>\n      <td>...</td>\n    </tr>\n    <tr>\n      <th>3087</th>\n      <td>0.085150</td>\n      <td>0.001317</td>\n      <td>0.002099</td>\n      <td>0.000992</td>\n      <td>0.000021</td>\n      <td>0.000091</td>\n      <td>---</td>\n    </tr>\n    <tr>\n      <th>3088</th>\n      <td>13.050158</td>\n      <td>0.201918</td>\n      <td>0.480184</td>\n      <td>0.226864</td>\n      <td>1.746515</td>\n      <td>7.398355</td>\n      <td>---</td>\n    </tr>\n    <tr>\n      <th>3089</th>\n      <td>2.587919</td>\n      <td>0.040041</td>\n      <td>0.150943</td>\n      <td>0.071313</td>\n      <td>0.329241</td>\n      <td>1.394686</td>\n      <td>---</td>\n    </tr>\n    <tr>\n      <th>3090</th>\n      <td>1.443013</td>\n      <td>0.022327</td>\n      <td>0.029652</td>\n      <td>0.014009</td>\n      <td>0.139329</td>\n      <td>0.590209</td>\n      <td>---</td>\n    </tr>\n    <tr>\n      <th>3091</th>\n      <td>0.334746</td>\n      <td>0.005179</td>\n      <td>0.009008</td>\n      <td>0.004256</td>\n      <td>0.030082</td>\n      <td>0.127431</td>\n      <td>---</td>\n    </tr>\n  </tbody>\n</table>\n<p>3091 rows × 7 columns</p>\n</div>"
     },
     "execution_count": 62,
     "metadata": {},
     "output_type": "execute_result"
    }
   ],
   "source": [
    "from task1_6 import triangle\n",
    "\n",
    "triangle_U, table = triangle(U_init, std_output=False)\n",
    "table"
   ],
   "metadata": {
    "collapsed": false,
    "ExecuteTime": {
     "end_time": "2024-01-23T05:29:28.503851Z",
     "start_time": "2024-01-23T05:29:28.494899Z"
    }
   },
   "id": "140ff5d62610e164",
   "execution_count": 62
  },
  {
   "cell_type": "markdown",
   "source": [
    "Численное решение:"
   ],
   "metadata": {
    "collapsed": false
   },
   "id": "9e0d61bbffd34acb"
  },
  {
   "cell_type": "code",
   "outputs": [
    {
     "data": {
      "text/plain": "array([[0.     , 0.     , 0.     , 0.     , 0.     , 0.     ],\n       [0.58779, 0.71219, 0.87369, 1.06806, 1.30622, 1.59777],\n       [0.95106, 1.1527 , 1.41237, 1.72734, 2.11354, 2.58524],\n       [0.95106, 1.15262, 1.41145, 1.72689, 2.11367, 2.58524],\n       [0.58779, 0.71237, 0.87175, 1.06712, 1.30655, 1.59777],\n       [0.     , 0.     , 0.     , 0.     , 0.     , 0.     ]])"
     },
     "execution_count": 63,
     "metadata": {},
     "output_type": "execute_result"
    }
   ],
   "source": [
    "triangle_U.T"
   ],
   "metadata": {
    "collapsed": false,
    "ExecuteTime": {
     "end_time": "2024-01-23T05:29:28.507019Z",
     "start_time": "2024-01-23T05:29:28.504255Z"
    }
   },
   "id": "297f96ffa889ab74",
   "execution_count": 63
  },
  {
   "cell_type": "markdown",
   "source": [
    "## Попеременно-треугольный итерационный метод с чебышевским набором параметров"
   ],
   "metadata": {
    "collapsed": false
   },
   "id": "2cf44be44f28f6bd"
  },
  {
   "cell_type": "code",
   "outputs": [
    {
     "data": {
      "text/plain": "      ||F - AUk||    rel.d.  ||Uk − u*||  rel.error  ||Uk − Uk-1||  \\\n1       29.342481  0.454000     1.732938   0.818731       1.173699   \n2       14.928344  0.230978     1.222781   0.577706       0.532860   \n3       13.677833  0.211630     1.031761   0.487458       0.271099   \n4       10.022704  0.155076     0.813598   0.384386       0.248390   \n5        8.055430  0.124637     0.659106   0.311396       0.182012   \n...           ...       ...          ...        ...            ...   \n3115     0.780076  0.012070     0.041992   0.019839       0.006208   \n3116     0.740305  0.011454     0.039817   0.018812       0.002175   \n3117     0.479421  0.007418     0.025441   0.012020       0.014376   \n3118     0.447161  0.006919     0.023528   0.011116       0.001914   \n3119     0.390162  0.006037     0.020115   0.009503       0.003413   \n\n      apost.est.      ro_k  \n1       4.971870       ---  \n2       2.257230     0.454  \n3       1.148393  0.508762  \n4       1.052195  0.916232  \n5       0.771017   0.73277  \n...          ...       ...  \n3115    0.026299       ---  \n3116    0.009214       ---  \n3117    0.060896       ---  \n3118    0.008106       ---  \n3119    0.014456       ---  \n\n[3119 rows x 7 columns]",
      "text/html": "<div>\n<style scoped>\n    .dataframe tbody tr th:only-of-type {\n        vertical-align: middle;\n    }\n\n    .dataframe tbody tr th {\n        vertical-align: top;\n    }\n\n    .dataframe thead th {\n        text-align: right;\n    }\n</style>\n<table border=\"1\" class=\"dataframe\">\n  <thead>\n    <tr style=\"text-align: right;\">\n      <th></th>\n      <th>||F - AUk||</th>\n      <th>rel.d.</th>\n      <th>||Uk − u*||</th>\n      <th>rel.error</th>\n      <th>||Uk − Uk-1||</th>\n      <th>apost.est.</th>\n      <th>ro_k</th>\n    </tr>\n  </thead>\n  <tbody>\n    <tr>\n      <th>1</th>\n      <td>29.342481</td>\n      <td>0.454000</td>\n      <td>1.732938</td>\n      <td>0.818731</td>\n      <td>1.173699</td>\n      <td>4.971870</td>\n      <td>---</td>\n    </tr>\n    <tr>\n      <th>2</th>\n      <td>14.928344</td>\n      <td>0.230978</td>\n      <td>1.222781</td>\n      <td>0.577706</td>\n      <td>0.532860</td>\n      <td>2.257230</td>\n      <td>0.454</td>\n    </tr>\n    <tr>\n      <th>3</th>\n      <td>13.677833</td>\n      <td>0.211630</td>\n      <td>1.031761</td>\n      <td>0.487458</td>\n      <td>0.271099</td>\n      <td>1.148393</td>\n      <td>0.508762</td>\n    </tr>\n    <tr>\n      <th>4</th>\n      <td>10.022704</td>\n      <td>0.155076</td>\n      <td>0.813598</td>\n      <td>0.384386</td>\n      <td>0.248390</td>\n      <td>1.052195</td>\n      <td>0.916232</td>\n    </tr>\n    <tr>\n      <th>5</th>\n      <td>8.055430</td>\n      <td>0.124637</td>\n      <td>0.659106</td>\n      <td>0.311396</td>\n      <td>0.182012</td>\n      <td>0.771017</td>\n      <td>0.73277</td>\n    </tr>\n    <tr>\n      <th>...</th>\n      <td>...</td>\n      <td>...</td>\n      <td>...</td>\n      <td>...</td>\n      <td>...</td>\n      <td>...</td>\n      <td>...</td>\n    </tr>\n    <tr>\n      <th>3115</th>\n      <td>0.780076</td>\n      <td>0.012070</td>\n      <td>0.041992</td>\n      <td>0.019839</td>\n      <td>0.006208</td>\n      <td>0.026299</td>\n      <td>---</td>\n    </tr>\n    <tr>\n      <th>3116</th>\n      <td>0.740305</td>\n      <td>0.011454</td>\n      <td>0.039817</td>\n      <td>0.018812</td>\n      <td>0.002175</td>\n      <td>0.009214</td>\n      <td>---</td>\n    </tr>\n    <tr>\n      <th>3117</th>\n      <td>0.479421</td>\n      <td>0.007418</td>\n      <td>0.025441</td>\n      <td>0.012020</td>\n      <td>0.014376</td>\n      <td>0.060896</td>\n      <td>---</td>\n    </tr>\n    <tr>\n      <th>3118</th>\n      <td>0.447161</td>\n      <td>0.006919</td>\n      <td>0.023528</td>\n      <td>0.011116</td>\n      <td>0.001914</td>\n      <td>0.008106</td>\n      <td>---</td>\n    </tr>\n    <tr>\n      <th>3119</th>\n      <td>0.390162</td>\n      <td>0.006037</td>\n      <td>0.020115</td>\n      <td>0.009503</td>\n      <td>0.003413</td>\n      <td>0.014456</td>\n      <td>---</td>\n    </tr>\n  </tbody>\n</table>\n<p>3119 rows × 7 columns</p>\n</div>"
     },
     "execution_count": 64,
     "metadata": {},
     "output_type": "execute_result"
    }
   ],
   "source": [
    "from task1_7 import triangle_chebyshev\n",
    "\n",
    "triangle_chebyshev_U, table = triangle_chebyshev(U_init, std_output=False)\n",
    "table"
   ],
   "metadata": {
    "collapsed": false,
    "ExecuteTime": {
     "end_time": "2024-01-23T05:29:28.574561Z",
     "start_time": "2024-01-23T05:29:28.507998Z"
    }
   },
   "id": "dae38c33a2c3f2c0",
   "execution_count": 64
  },
  {
   "cell_type": "markdown",
   "source": [
    "Численное решение:"
   ],
   "metadata": {
    "collapsed": false
   },
   "id": "7b404e6a52653674"
  },
  {
   "cell_type": "code",
   "outputs": [
    {
     "data": {
      "text/plain": "array([[0.     , 0.     , 0.     , 0.     , 0.     , 0.     ],\n       [0.58779, 0.71656, 0.86907, 1.05974, 1.29828, 1.59777],\n       [0.95106, 1.15818, 1.40418, 1.71343, 2.10089, 2.58524],\n       [0.95106, 1.15733, 1.40295, 1.71282, 2.10124, 2.58524],\n       [0.58779, 0.7146 , 0.8662 , 1.05831, 1.29914, 1.59777],\n       [0.     , 0.     , 0.     , 0.     , 0.     , 0.     ]])"
     },
     "execution_count": 65,
     "metadata": {},
     "output_type": "execute_result"
    }
   ],
   "source": [
    "triangle_chebyshev_U.T"
   ],
   "metadata": {
    "collapsed": false,
    "ExecuteTime": {
     "end_time": "2024-01-23T05:29:28.585207Z",
     "start_time": "2024-01-23T05:29:28.539435Z"
    }
   },
   "id": "683dac4e37575151",
   "execution_count": 65
  },
  {
   "cell_type": "code",
   "outputs": [],
   "source": [],
   "metadata": {
    "collapsed": false,
    "ExecuteTime": {
     "end_time": "2024-01-23T05:29:28.589541Z",
     "start_time": "2024-01-23T05:29:28.541360Z"
    }
   },
   "id": "b4ee04e015939225",
   "execution_count": 65
  }
 ],
 "metadata": {
  "kernelspec": {
   "display_name": "Python 3 (ipykernel)",
   "language": "python",
   "name": "python3"
  },
  "language_info": {
   "codemirror_mode": {
    "name": "ipython",
    "version": 3
   },
   "file_extension": ".py",
   "mimetype": "text/x-python",
   "name": "python",
   "nbconvert_exporter": "python",
   "pygments_lexer": "ipython3",
   "version": "3.11.3"
  }
 },
 "nbformat": 4,
 "nbformat_minor": 5
}
